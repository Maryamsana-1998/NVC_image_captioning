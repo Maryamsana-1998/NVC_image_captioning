{
 "cells": [
  {
   "cell_type": "code",
   "execution_count": 6,
   "id": "7c23be6c-0a68-4798-9b2b-f08a58429bea",
   "metadata": {},
   "outputs": [],
   "source": [
    "from PIL import Image\n",
    "\n",
    "def interpolate_images(start_img, end_img, num_intermediate_imgs):\n",
    "    # Open the images\n",
    "    img1 = Image.open(start_img)\n",
    "    img2 = Image.open(end_img)\n",
    "\n",
    "    # Resize second image to match the first\n",
    "    img2 = img2.resize(img1.size, Image.Resampling.LANCZOS)\n",
    "\n",
    "    # List to hold all frames\n",
    "    all_frames = [img1]\n",
    "    for i in range(1, num_intermediate_imgs + 1):\n",
    "        # Calculate the weight factor\n",
    "        print(i)\n",
    "        alpha = i / (num_intermediate_imgs + 1)\n",
    "        # Perform the interpolation\n",
    "        interpolated_img = Image.blend(img1, img2, alpha)\n",
    "        all_frames.append(interpolated_img)\n",
    "\n",
    "    all_frames.append(img2)\n",
    "    return all_frames\n"
   ]
  },
  {
   "cell_type": "code",
   "execution_count": 13,
   "id": "9a65096b-5e8e-4a06-abd8-7f2de3a9eea9",
   "metadata": {},
   "outputs": [
    {
     "name": "stdout",
     "output_type": "stream",
     "text": [
      "1\n",
      "2\n",
      "3\n",
      "4\n",
      "5\n",
      "6\n",
      "7\n",
      "8\n",
      "10\n",
      "data/custom_data/train/img00001.png\n",
      "data/custom_data/train/img00002.png\n",
      "data/custom_data/train/img00003.png\n",
      "data/custom_data/train/img00004.png\n",
      "data/custom_data/train/img00005.png\n",
      "data/custom_data/train/img00006.png\n",
      "data/custom_data/train/img00007.png\n",
      "data/custom_data/train/img00008.png\n",
      "21.79797673225403\n"
     ]
    }
   ],
   "source": [
    "from utils import psnr,psnr_transform\n",
    "from pytorch_msssim import ms_ssim\n",
    "# Specify the path to the start and end images\n",
    "start_image_path = 'data/custom_data/train/img00001.png'\n",
    "end_image_path = 'data/custom_data/train/img00009.png'\n",
    "\n",
    "# Generate 8 intermediate images (10 in total including the first and last)\n",
    "frames = interpolate_images(start_image_path, end_image_path, 8)\n",
    "psnr_data =[]\n",
    "mssim = []\n",
    "print(len(frames))\n",
    "# Save or display the frames\n",
    "for idx, frame in enumerate(frames[1:9]):\n",
    "    original_image = Image.open(f'data/custom_data/train/img0000{idx+1}.png')\n",
    "    print(f'data/custom_data/train/img0000{idx+1}.png')\n",
    "    # frame.save(f'interpolated_{idx}.jpg')\n",
    "    orig = psnr_transform(original_image)\n",
    "    pred = psnr_transform(frame)\n",
    "    psnr_data.append(psnr(orig,pred).item())\n",
    "    mssim.append(ms_ssim(orig.unsqueeze(0), pred.unsqueeze(0),255).item())\n",
    "    # Uncomment the lines below to display the images\n",
    "    # frame.show(title=f'Frame {idx}')\n"
   ]
  },
  {
   "cell_type": "code",
   "execution_count": 14,
   "id": "ddd72314-34a1-48d1-9a19-fd0ce7d5bbd2",
   "metadata": {},
   "outputs": [
    {
     "name": "stdout",
     "output_type": "stream",
     "text": [
      "21.79797673225403\n",
      "0.7039269432425499\n"
     ]
    }
   ],
   "source": [
    "print(sum(psnr_data)/len(psnr_data))\n",
    "print(sum(mssim)/len(mssim))"
   ]
  },
  {
   "cell_type": "code",
   "execution_count": null,
   "id": "4a17a854-76bf-45dd-82de-148baa21f533",
   "metadata": {},
   "outputs": [],
   "source": []
  }
 ],
 "metadata": {
  "kernelspec": {
   "display_name": "Python 3 (ipykernel)",
   "language": "python",
   "name": "python3"
  },
  "language_info": {
   "codemirror_mode": {
    "name": "ipython",
    "version": 3
   },
   "file_extension": ".py",
   "mimetype": "text/x-python",
   "name": "python",
   "nbconvert_exporter": "python",
   "pygments_lexer": "ipython3",
   "version": "3.12.2"
  }
 },
 "nbformat": 4,
 "nbformat_minor": 5
}
