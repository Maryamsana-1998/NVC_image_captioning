{
 "cells": [
  {
   "cell_type": "code",
   "execution_count": 10,
   "id": "7c23be6c-0a68-4798-9b2b-f08a58429bea",
   "metadata": {},
   "outputs": [],
   "source": [
    "from PIL import Image\n",
    "\n",
    "def interpolate_images(start_img, end_img, num_intermediate_imgs):\n",
    "    # Open the images\n",
    "    img1 = Image.open(start_img)\n",
    "    img2 = Image.open(end_img)\n",
    "\n",
    "    # Resize second image to match the first\n",
    "    img2 = img2.resize(img1.size, Image.Resampling.LANCZOS)\n",
    "\n",
    "    # List to hold all frames\n",
    "    all_frames = [img1]\n",
    "    for i in range(1, num_intermediate_imgs + 1):\n",
    "        # Calculate the weight factor\n",
    "        alpha = i / (num_intermediate_imgs + 1)\n",
    "        # Perform the interpolation\n",
    "        interpolated_img = Image.blend(img1, img2, alpha)\n",
    "        all_frames.append(interpolated_img)\n",
    "\n",
    "    all_frames.append(img2)\n",
    "    return all_frames\n"
   ]
  },
  {
   "cell_type": "code",
   "execution_count": 11,
   "id": "9a65096b-5e8e-4a06-abd8-7f2de3a9eea9",
   "metadata": {},
   "outputs": [
    {
     "name": "stdout",
     "output_type": "stream",
     "text": [
      "data/custom_data/train/img00001.png\n",
      "data/custom_data/train/img00002.png\n",
      "data/custom_data/train/img00003.png\n",
      "data/custom_data/train/img00004.png\n",
      "data/custom_data/train/img00005.png\n",
      "data/custom_data/train/img00006.png\n",
      "data/custom_data/train/img00007.png\n",
      "data/custom_data/train/img00008.png\n"
     ]
    },
    {
     "ename": "FileNotFoundError",
     "evalue": "[Errno 2] No such file or directory: 'data/custom_data/train/img000010.png'",
     "output_type": "error",
     "traceback": [
      "\u001b[0;31m---------------------------------------------------------------------------\u001b[0m",
      "\u001b[0;31mFileNotFoundError\u001b[0m                         Traceback (most recent call last)",
      "Cell \u001b[0;32mIn[11], line 12\u001b[0m\n\u001b[1;32m     10\u001b[0m \u001b[38;5;66;03m# Save or display the frames\u001b[39;00m\n\u001b[1;32m     11\u001b[0m \u001b[38;5;28;01mfor\u001b[39;00m idx, frame \u001b[38;5;129;01min\u001b[39;00m \u001b[38;5;28menumerate\u001b[39m(frames):\n\u001b[0;32m---> 12\u001b[0m     original_image \u001b[38;5;241m=\u001b[39m \u001b[43mImage\u001b[49m\u001b[38;5;241;43m.\u001b[39;49m\u001b[43mopen\u001b[49m\u001b[43m(\u001b[49m\u001b[38;5;124;43mf\u001b[39;49m\u001b[38;5;124;43m'\u001b[39;49m\u001b[38;5;124;43mdata/custom_data/train/img0000\u001b[39;49m\u001b[38;5;132;43;01m{\u001b[39;49;00m\u001b[43midx\u001b[49m\u001b[38;5;241;43m+\u001b[39;49m\u001b[38;5;241;43m2\u001b[39;49m\u001b[38;5;132;43;01m}\u001b[39;49;00m\u001b[38;5;124;43m.png\u001b[39;49m\u001b[38;5;124;43m'\u001b[39;49m\u001b[43m)\u001b[49m\n\u001b[1;32m     13\u001b[0m     \u001b[38;5;28mprint\u001b[39m(\u001b[38;5;124mf\u001b[39m\u001b[38;5;124m'\u001b[39m\u001b[38;5;124mdata/custom_data/train/img0000\u001b[39m\u001b[38;5;132;01m{\u001b[39;00midx\u001b[38;5;241m+\u001b[39m\u001b[38;5;241m1\u001b[39m\u001b[38;5;132;01m}\u001b[39;00m\u001b[38;5;124m.png\u001b[39m\u001b[38;5;124m'\u001b[39m)\n\u001b[1;32m     14\u001b[0m     frame\u001b[38;5;241m.\u001b[39msave(\u001b[38;5;124mf\u001b[39m\u001b[38;5;124m'\u001b[39m\u001b[38;5;124minterpolated_\u001b[39m\u001b[38;5;132;01m{\u001b[39;00midx\u001b[38;5;132;01m}\u001b[39;00m\u001b[38;5;124m.jpg\u001b[39m\u001b[38;5;124m'\u001b[39m)\n",
      "File \u001b[0;32m/data/maryam.sana/anaconda3/envs/compressai/lib/python3.12/site-packages/PIL/Image.py:3247\u001b[0m, in \u001b[0;36mopen\u001b[0;34m(fp, mode, formats)\u001b[0m\n\u001b[1;32m   3244\u001b[0m     filename \u001b[38;5;241m=\u001b[39m fp\n\u001b[1;32m   3246\u001b[0m \u001b[38;5;28;01mif\u001b[39;00m filename:\n\u001b[0;32m-> 3247\u001b[0m     fp \u001b[38;5;241m=\u001b[39m \u001b[43mbuiltins\u001b[49m\u001b[38;5;241;43m.\u001b[39;49m\u001b[43mopen\u001b[49m\u001b[43m(\u001b[49m\u001b[43mfilename\u001b[49m\u001b[43m,\u001b[49m\u001b[43m \u001b[49m\u001b[38;5;124;43m\"\u001b[39;49m\u001b[38;5;124;43mrb\u001b[39;49m\u001b[38;5;124;43m\"\u001b[39;49m\u001b[43m)\u001b[49m\n\u001b[1;32m   3248\u001b[0m     exclusive_fp \u001b[38;5;241m=\u001b[39m \u001b[38;5;28;01mTrue\u001b[39;00m\n\u001b[1;32m   3250\u001b[0m \u001b[38;5;28;01mtry\u001b[39;00m:\n",
      "\u001b[0;31mFileNotFoundError\u001b[0m: [Errno 2] No such file or directory: 'data/custom_data/train/img000010.png'"
     ]
    }
   ],
   "source": [
    "from utils import calculate_psnr, mse_loss\n",
    "# Specify the path to the start and end images\n",
    "start_image_path = 'data/custom_data/train/img00001.png'\n",
    "end_image_path = 'data/custom_data/train/img00009.png'\n",
    "\n",
    "# Generate 8 intermediate images (10 in total including the first and last)\n",
    "frames = interpolate_images(start_image_path, end_image_path, 8)\n",
    "psnr =[]\n",
    "mse = []\n",
    "# Save or display the frames\n",
    "for idx, frame in enumerate(frames):\n",
    "    original_image = Image.open(f'data/custom_data/train/img0000{idx+2}.png')\n",
    "    print(f'data/custom_data/train/img0000{idx+1}.png')\n",
    "    frame.save(f'interpolated_{idx}.jpg')\n",
    "    psnr.append(calculate_psnr(original_image, frame))\n",
    "    mse.append(mse_loss(original_image, frame))\n",
    "    # Uncomment the lines below to display the images\n",
    "    # frame.show(title=f'Frame {idx}')\n",
    "\n",
    "print(sum(psnr)/len(psnr))\n",
    "print(sum(mse)/len(mse))"
   ]
  },
  {
   "cell_type": "code",
   "execution_count": 12,
   "id": "ddd72314-34a1-48d1-9a19-fd0ce7d5bbd2",
   "metadata": {},
   "outputs": [
    {
     "name": "stdout",
     "output_type": "stream",
     "text": [
      "30.41904063681045\n",
      "60.28810271588863\n"
     ]
    }
   ],
   "source": [
    "\n",
    "print(sum(psnr)/len(psnr))\n",
    "print(sum(mse)/len(mse))"
   ]
  },
  {
   "cell_type": "code",
   "execution_count": null,
   "id": "4a17a854-76bf-45dd-82de-148baa21f533",
   "metadata": {},
   "outputs": [],
   "source": []
  }
 ],
 "metadata": {
  "kernelspec": {
   "display_name": "Python 3 (ipykernel)",
   "language": "python",
   "name": "python3"
  },
  "language_info": {
   "codemirror_mode": {
    "name": "ipython",
    "version": 3
   },
   "file_extension": ".py",
   "mimetype": "text/x-python",
   "name": "python",
   "nbconvert_exporter": "python",
   "pygments_lexer": "ipython3",
   "version": "3.12.2"
  }
 },
 "nbformat": 4,
 "nbformat_minor": 5
}
