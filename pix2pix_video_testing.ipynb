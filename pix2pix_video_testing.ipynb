{
 "cells": [
  {
   "cell_type": "code",
   "execution_count": 11,
   "id": "938146b1-d450-4ab1-866a-5c5a351881dc",
   "metadata": {},
   "outputs": [],
   "source": [
    "import requests\n",
    "import torch\n",
    "from transformers import BlipForConditionalGeneration, BlipProcessor\n",
    "from diffusers import DDIMScheduler, DDIMInverseScheduler, StableDiffusionPix2PixZeroPipeline\n",
    "from PIL import Image\n",
    "import numpy as np\n",
    "import pickle\n",
    "import glob\n",
    "from pathlib import Path\n",
    "import os\n",
    "\n",
    "def download(embedding_url, local_filepath):\n",
    "    r = requests.get(embedding_url)\n",
    "    with open(local_filepath, \"wb\") as f:\n",
    "        f.write(r.content)"
   ]
  },
  {
   "cell_type": "code",
   "execution_count": 2,
   "id": "ecfc7aab-f7da-49a2-a8ef-d16152b18583",
   "metadata": {},
   "outputs": [],
   "source": [
    "captioner_id = \"Salesforce/blip-image-captioning-base\"\n",
    "processor = BlipProcessor.from_pretrained(captioner_id)\n",
    "model = BlipForConditionalGeneration.from_pretrained(captioner_id, torch_dtype=torch.float16, low_cpu_mem_usage=True)\n"
   ]
  },
  {
   "cell_type": "code",
   "execution_count": 3,
   "id": "c31e32e1-ee72-4448-98f8-b6074f7a7bc1",
   "metadata": {},
   "outputs": [
    {
     "name": "stderr",
     "output_type": "stream",
     "text": [
      "Fetching 14 files: 100%|████████████████████████████| 14/14 [00:42<00:00,  3.07s/it]\n",
      "Loading pipeline components...: 100%|█████████████████| 6/6 [00:00<00:00,  7.27it/s]\n",
      "You have disabled the safety checker for <class 'diffusers.pipelines.deprecated.stable_diffusion_variants.pipeline_stable_diffusion_pix2pix_zero.StableDiffusionPix2PixZeroPipeline'> by passing `safety_checker=None`. Ensure that you abide to the conditions of the Stable Diffusion license and do not expose unfiltered results in services or applications open to the public. Both the diffusers team and Hugging Face strongly recommend to keep the safety filter enabled in all public facing circumstances, disabling it only for use-cases that involve analyzing network behavior or auditing its results. For more information, please have a look at https://github.com/huggingface/diffusers/pull/254 .\n",
      "The config attributes {'skip_prk_steps': True} were passed to DDIMInverseScheduler, but are not expected and will be ignored. Please verify your scheduler_config.json configuration file.\n"
     ]
    }
   ],
   "source": [
    "sd_model_ckpt = \"CompVis/stable-diffusion-v1-4\"\n",
    "pipeline = StableDiffusionPix2PixZeroPipeline.from_pretrained(\n",
    "    sd_model_ckpt,\n",
    "    caption_generator=model,\n",
    "    caption_processor=processor,\n",
    "    torch_dtype=torch.float16,\n",
    "    safety_checker=None,\n",
    ")\n",
    "pipeline.scheduler = DDIMScheduler.from_config(pipeline.scheduler.config)\n",
    "pipeline.inverse_scheduler = DDIMInverseScheduler.from_config(pipeline.scheduler.config)\n",
    "pipeline.enable_model_cpu_offload()"
   ]
  },
  {
   "cell_type": "code",
   "execution_count": 9,
   "id": "81c59d47-108a-49cd-b5d7-d0486cfc9ac6",
   "metadata": {},
   "outputs": [],
   "source": [
    "def get_caption(image):\n",
    "    caption = pipeline.generate_caption(image)\n",
    "    return caption"
   ]
  },
  {
   "cell_type": "code",
   "execution_count": 4,
   "id": "a1aee6e9-1d8c-47c9-a5c3-d45af46a7c3b",
   "metadata": {},
   "outputs": [],
   "source": [
    "def get_reconstructed_image(raw_image):\n",
    "    caption = get_caption(raw_image)\n",
    "    generator = torch.manual_seed(0)\n",
    "    inv_latents = pipeline.invert(caption, image=raw_image, generator=generator).latents\n",
    "    source_embeds = pipeline.get_embeds(caption, batch_size=2)\n",
    "    pred_img = pipeline(\n",
    "            caption,\n",
    "            source_embeds=source_embeds,\n",
    "            target_embeds=source_embeds,\n",
    "            num_inference_steps=50,\n",
    "            cross_attention_guidance_amount=0.15,\n",
    "            generator=generator,\n",
    "            latents=inv_latents,\n",
    "            negative_prompt=caption,\n",
    "        ).images[0]\n",
    "    \n",
    "    return pred_img, caption, inv_latents"
   ]
  },
  {
   "cell_type": "code",
   "execution_count": 5,
   "id": "c0ea2f4a-446b-4a2c-93c5-114bf770e802",
   "metadata": {},
   "outputs": [],
   "source": [
    "def calculate_psnr(original_image, reconstructed_image):\n",
    "    # Convert images to numpy arrays\n",
    "    original_array = np.array(original_image)\n",
    "    reconstructed_array = np.array(reconstructed_image)\n",
    "\n",
    "    # Calculate mean squared error\n",
    "    mse = np.mean((original_array - reconstructed_array) ** 2)\n",
    "\n",
    "    # Maximum possible pixel value\n",
    "    max_pixel_value = 255  # Assuming 8-bit images\n",
    "\n",
    "    # Calculate PSNR\n",
    "    psnr = 20 * np.log10(max_pixel_value / np.sqrt(mse))\n",
    "\n",
    "    return psnr"
   ]
  },
  {
   "cell_type": "code",
   "execution_count": 12,
   "id": "4e283c8e-d5ef-4734-9a02-dd4362e25d8b",
   "metadata": {},
   "outputs": [],
   "source": [
    "def calculate_bpp(data_path, image_size):\n",
    "    # Get the file size of the image in bytes\n",
    "    file_size_bytes = os.path.getsize(data_path)\n",
    "\n",
    "    # Convert file size to bits\n",
    "    file_size_bits = file_size_bytes * 8\n",
    "\n",
    "    width, height = image_size\n",
    "\n",
    "    # Calculate total number of pixels\n",
    "    total_pixels = width * height\n",
    "\n",
    "    # Calculate bits per pixel\n",
    "    bpp = file_size_bits / total_pixels\n",
    "\n",
    "    return bpp"
   ]
  },
  {
   "cell_type": "code",
   "execution_count": 13,
   "id": "be8d03ce-62fb-40a4-a8ef-f2e21693bcac",
   "metadata": {},
   "outputs": [
    {
     "name": "stderr",
     "output_type": "stream",
     "text": [
      "100%|███████████████████████████████████████████████| 50/50 [00:24<00:00,  2.05it/s]\n",
      "100%|███████████████████████████████████████████████| 50/50 [00:05<00:00,  9.95it/s]\n",
      "100%|███████████████████████████████████████████████| 50/50 [00:13<00:00,  3.77it/s]\n"
     ]
    },
    {
     "name": "stdout",
     "output_type": "stream",
     "text": [
      "processing complete: Jockey/img00001.png\n"
     ]
    },
    {
     "name": "stderr",
     "output_type": "stream",
     "text": [
      "100%|███████████████████████████████████████████████| 50/50 [00:24<00:00,  2.04it/s]\n",
      "100%|███████████████████████████████████████████████| 50/50 [00:05<00:00,  9.88it/s]\n",
      "100%|███████████████████████████████████████████████| 50/50 [00:13<00:00,  3.73it/s]\n"
     ]
    },
    {
     "name": "stdout",
     "output_type": "stream",
     "text": [
      "processing complete: Jockey/img00002.png\n"
     ]
    },
    {
     "name": "stderr",
     "output_type": "stream",
     "text": [
      "100%|███████████████████████████████████████████████| 50/50 [00:24<00:00,  2.04it/s]\n",
      "100%|███████████████████████████████████████████████| 50/50 [00:05<00:00,  9.99it/s]\n",
      "100%|███████████████████████████████████████████████| 50/50 [00:13<00:00,  3.74it/s]\n"
     ]
    },
    {
     "name": "stdout",
     "output_type": "stream",
     "text": [
      "processing complete: Jockey/img00003.png\n"
     ]
    },
    {
     "name": "stderr",
     "output_type": "stream",
     "text": [
      "100%|███████████████████████████████████████████████| 50/50 [00:24<00:00,  2.03it/s]\n",
      "100%|███████████████████████████████████████████████| 50/50 [00:05<00:00,  9.95it/s]\n",
      "100%|███████████████████████████████████████████████| 50/50 [00:13<00:00,  3.72it/s]\n"
     ]
    },
    {
     "name": "stdout",
     "output_type": "stream",
     "text": [
      "processing complete: Jockey/img00004.png\n"
     ]
    },
    {
     "name": "stderr",
     "output_type": "stream",
     "text": [
      "100%|███████████████████████████████████████████████| 50/50 [00:24<00:00,  2.05it/s]\n",
      "100%|███████████████████████████████████████████████| 50/50 [00:04<00:00, 10.09it/s]\n",
      "100%|███████████████████████████████████████████████| 50/50 [00:13<00:00,  3.73it/s]\n"
     ]
    },
    {
     "name": "stdout",
     "output_type": "stream",
     "text": [
      "processing complete: Jockey/img00005.png\n"
     ]
    },
    {
     "name": "stderr",
     "output_type": "stream",
     "text": [
      "100%|███████████████████████████████████████████████| 50/50 [00:24<00:00,  2.06it/s]\n",
      "100%|███████████████████████████████████████████████| 50/50 [00:05<00:00,  9.96it/s]\n",
      "100%|███████████████████████████████████████████████| 50/50 [00:13<00:00,  3.75it/s]\n"
     ]
    },
    {
     "name": "stdout",
     "output_type": "stream",
     "text": [
      "processing complete: Jockey/img00006.png\n"
     ]
    },
    {
     "name": "stderr",
     "output_type": "stream",
     "text": [
      "100%|███████████████████████████████████████████████| 50/50 [00:24<00:00,  2.06it/s]\n",
      "100%|███████████████████████████████████████████████| 50/50 [00:05<00:00,  9.95it/s]\n",
      "100%|███████████████████████████████████████████████| 50/50 [00:13<00:00,  3.73it/s]\n"
     ]
    },
    {
     "name": "stdout",
     "output_type": "stream",
     "text": [
      "processing complete: Jockey/img00007.png\n"
     ]
    },
    {
     "name": "stderr",
     "output_type": "stream",
     "text": [
      "100%|███████████████████████████████████████████████| 50/50 [00:24<00:00,  2.06it/s]\n",
      "100%|███████████████████████████████████████████████| 50/50 [00:05<00:00,  9.99it/s]\n",
      "100%|███████████████████████████████████████████████| 50/50 [00:13<00:00,  3.74it/s]\n"
     ]
    },
    {
     "name": "stdout",
     "output_type": "stream",
     "text": [
      "processing complete: Jockey/img00008.png\n"
     ]
    },
    {
     "name": "stderr",
     "output_type": "stream",
     "text": [
      "100%|███████████████████████████████████████████████| 50/50 [00:23<00:00,  2.08it/s]\n",
      "100%|███████████████████████████████████████████████| 50/50 [00:05<00:00,  9.99it/s]\n",
      "100%|███████████████████████████████████████████████| 50/50 [00:13<00:00,  3.74it/s]\n"
     ]
    },
    {
     "name": "stdout",
     "output_type": "stream",
     "text": [
      "processing complete: Jockey/img00009.png\n"
     ]
    },
    {
     "name": "stderr",
     "output_type": "stream",
     "text": [
      "100%|███████████████████████████████████████████████| 50/50 [00:24<00:00,  2.05it/s]\n",
      "100%|███████████████████████████████████████████████| 50/50 [00:05<00:00,  9.81it/s]\n",
      "100%|███████████████████████████████████████████████| 50/50 [00:13<00:00,  3.75it/s]\n"
     ]
    },
    {
     "name": "stdout",
     "output_type": "stream",
     "text": [
      "processing complete: Jockey/img00010.png\n"
     ]
    },
    {
     "name": "stderr",
     "output_type": "stream",
     "text": [
      "100%|███████████████████████████████████████████████| 50/50 [00:24<00:00,  2.04it/s]\n",
      "100%|███████████████████████████████████████████████| 50/50 [00:04<00:00, 10.02it/s]\n",
      "100%|███████████████████████████████████████████████| 50/50 [00:13<00:00,  3.74it/s]\n"
     ]
    },
    {
     "name": "stdout",
     "output_type": "stream",
     "text": [
      "processing complete: Jockey/img00011.png\n"
     ]
    },
    {
     "name": "stderr",
     "output_type": "stream",
     "text": [
      "100%|███████████████████████████████████████████████| 50/50 [00:24<00:00,  2.05it/s]\n",
      "100%|███████████████████████████████████████████████| 50/50 [00:05<00:00,  9.97it/s]\n",
      "100%|███████████████████████████████████████████████| 50/50 [00:13<00:00,  3.75it/s]\n"
     ]
    },
    {
     "name": "stdout",
     "output_type": "stream",
     "text": [
      "processing complete: Jockey/img00012.png\n"
     ]
    },
    {
     "name": "stderr",
     "output_type": "stream",
     "text": [
      "100%|███████████████████████████████████████████████| 50/50 [00:24<00:00,  2.04it/s]\n",
      "100%|███████████████████████████████████████████████| 50/50 [00:05<00:00,  9.98it/s]\n",
      "100%|███████████████████████████████████████████████| 50/50 [00:13<00:00,  3.74it/s]\n"
     ]
    },
    {
     "name": "stdout",
     "output_type": "stream",
     "text": [
      "processing complete: Jockey/img00013.png\n"
     ]
    },
    {
     "name": "stderr",
     "output_type": "stream",
     "text": [
      "100%|███████████████████████████████████████████████| 50/50 [00:24<00:00,  2.05it/s]\n",
      "100%|███████████████████████████████████████████████| 50/50 [00:04<00:00, 10.08it/s]\n",
      "100%|███████████████████████████████████████████████| 50/50 [00:13<00:00,  3.76it/s]\n"
     ]
    },
    {
     "name": "stdout",
     "output_type": "stream",
     "text": [
      "processing complete: Jockey/img00014.png\n"
     ]
    },
    {
     "name": "stderr",
     "output_type": "stream",
     "text": [
      "100%|███████████████████████████████████████████████| 50/50 [00:23<00:00,  2.09it/s]\n",
      "100%|███████████████████████████████████████████████| 50/50 [00:05<00:00,  9.92it/s]\n",
      "100%|███████████████████████████████████████████████| 50/50 [00:13<00:00,  3.73it/s]\n"
     ]
    },
    {
     "name": "stdout",
     "output_type": "stream",
     "text": [
      "processing complete: Jockey/img00015.png\n"
     ]
    },
    {
     "name": "stderr",
     "output_type": "stream",
     "text": [
      "100%|███████████████████████████████████████████████| 50/50 [00:24<00:00,  2.05it/s]\n",
      "100%|███████████████████████████████████████████████| 50/50 [00:04<00:00, 10.01it/s]\n",
      "100%|███████████████████████████████████████████████| 50/50 [00:13<00:00,  3.75it/s]\n"
     ]
    },
    {
     "name": "stdout",
     "output_type": "stream",
     "text": [
      "processing complete: Jockey/img00016.png\n"
     ]
    },
    {
     "name": "stderr",
     "output_type": "stream",
     "text": [
      "100%|███████████████████████████████████████████████| 50/50 [00:24<00:00,  2.06it/s]\n",
      "100%|███████████████████████████████████████████████| 50/50 [00:04<00:00, 10.03it/s]\n",
      "100%|███████████████████████████████████████████████| 50/50 [00:13<00:00,  3.74it/s]\n"
     ]
    },
    {
     "name": "stdout",
     "output_type": "stream",
     "text": [
      "processing complete: Jockey/img00017.png\n"
     ]
    },
    {
     "name": "stderr",
     "output_type": "stream",
     "text": [
      "100%|███████████████████████████████████████████████| 50/50 [00:24<00:00,  2.05it/s]\n",
      "100%|███████████████████████████████████████████████| 50/50 [00:04<00:00, 10.02it/s]\n",
      "100%|███████████████████████████████████████████████| 50/50 [00:13<00:00,  3.74it/s]\n"
     ]
    },
    {
     "name": "stdout",
     "output_type": "stream",
     "text": [
      "processing complete: Jockey/img00018.png\n"
     ]
    },
    {
     "name": "stderr",
     "output_type": "stream",
     "text": [
      "100%|███████████████████████████████████████████████| 50/50 [00:23<00:00,  2.09it/s]\n",
      "100%|███████████████████████████████████████████████| 50/50 [00:04<00:00, 10.01it/s]\n",
      "100%|███████████████████████████████████████████████| 50/50 [00:13<00:00,  3.75it/s]\n"
     ]
    },
    {
     "name": "stdout",
     "output_type": "stream",
     "text": [
      "processing complete: Jockey/img00019.png\n"
     ]
    },
    {
     "name": "stderr",
     "output_type": "stream",
     "text": [
      "100%|███████████████████████████████████████████████| 50/50 [00:24<00:00,  2.06it/s]\n",
      "100%|███████████████████████████████████████████████| 50/50 [00:04<00:00, 10.07it/s]\n",
      "100%|███████████████████████████████████████████████| 50/50 [00:13<00:00,  3.75it/s]\n"
     ]
    },
    {
     "name": "stdout",
     "output_type": "stream",
     "text": [
      "processing complete: Jockey/img00020.png\n"
     ]
    },
    {
     "name": "stderr",
     "output_type": "stream",
     "text": [
      "100%|███████████████████████████████████████████████| 50/50 [00:24<00:00,  2.06it/s]\n",
      "100%|███████████████████████████████████████████████| 50/50 [00:04<00:00, 10.02it/s]\n",
      "100%|███████████████████████████████████████████████| 50/50 [00:13<00:00,  3.74it/s]\n"
     ]
    },
    {
     "name": "stdout",
     "output_type": "stream",
     "text": [
      "processing complete: Jockey/img00021.png\n"
     ]
    },
    {
     "name": "stderr",
     "output_type": "stream",
     "text": [
      "100%|███████████████████████████████████████████████| 50/50 [00:24<00:00,  2.04it/s]\n",
      "100%|███████████████████████████████████████████████| 50/50 [00:04<00:00, 10.07it/s]\n",
      "100%|███████████████████████████████████████████████| 50/50 [00:13<00:00,  3.75it/s]\n"
     ]
    },
    {
     "name": "stdout",
     "output_type": "stream",
     "text": [
      "processing complete: Jockey/img00022.png\n"
     ]
    },
    {
     "name": "stderr",
     "output_type": "stream",
     "text": [
      "100%|███████████████████████████████████████████████| 50/50 [00:24<00:00,  2.04it/s]\n",
      "100%|███████████████████████████████████████████████| 50/50 [00:04<00:00, 10.03it/s]\n",
      "100%|███████████████████████████████████████████████| 50/50 [00:13<00:00,  3.73it/s]\n"
     ]
    },
    {
     "name": "stdout",
     "output_type": "stream",
     "text": [
      "processing complete: Jockey/img00023.png\n"
     ]
    },
    {
     "name": "stderr",
     "output_type": "stream",
     "text": [
      "100%|███████████████████████████████████████████████| 50/50 [00:23<00:00,  2.13it/s]\n",
      "100%|███████████████████████████████████████████████| 50/50 [00:05<00:00,  9.55it/s]\n",
      "100%|███████████████████████████████████████████████| 50/50 [00:15<00:00,  3.26it/s]\n"
     ]
    },
    {
     "name": "stdout",
     "output_type": "stream",
     "text": [
      "processing complete: Jockey/img00024.png\n"
     ]
    },
    {
     "name": "stderr",
     "output_type": "stream",
     "text": [
      "100%|███████████████████████████████████████████████| 50/50 [00:25<00:00,  1.95it/s]\n",
      "100%|███████████████████████████████████████████████| 50/50 [00:09<00:00,  5.36it/s]\n",
      "100%|███████████████████████████████████████████████| 50/50 [00:15<00:00,  3.19it/s]\n"
     ]
    },
    {
     "name": "stdout",
     "output_type": "stream",
     "text": [
      "processing complete: Jockey/img00025.png\n"
     ]
    },
    {
     "name": "stderr",
     "output_type": "stream",
     "text": [
      "100%|███████████████████████████████████████████████| 50/50 [00:23<00:00,  2.13it/s]\n",
      "100%|███████████████████████████████████████████████| 50/50 [00:05<00:00,  8.42it/s]\n",
      "100%|███████████████████████████████████████████████| 50/50 [00:20<00:00,  2.48it/s]\n"
     ]
    },
    {
     "name": "stdout",
     "output_type": "stream",
     "text": [
      "processing complete: Jockey/img00026.png\n"
     ]
    },
    {
     "name": "stderr",
     "output_type": "stream",
     "text": [
      "100%|███████████████████████████████████████████████| 50/50 [00:26<00:00,  1.89it/s]\n",
      "100%|███████████████████████████████████████████████| 50/50 [00:05<00:00,  8.38it/s]\n",
      "100%|███████████████████████████████████████████████| 50/50 [00:20<00:00,  2.44it/s]\n"
     ]
    },
    {
     "name": "stdout",
     "output_type": "stream",
     "text": [
      "processing complete: Jockey/img00027.png\n"
     ]
    },
    {
     "name": "stderr",
     "output_type": "stream",
     "text": [
      "100%|███████████████████████████████████████████████| 50/50 [00:26<00:00,  1.92it/s]\n",
      "100%|███████████████████████████████████████████████| 50/50 [00:04<00:00, 10.02it/s]\n",
      "100%|███████████████████████████████████████████████| 50/50 [00:13<00:00,  3.72it/s]\n"
     ]
    },
    {
     "name": "stdout",
     "output_type": "stream",
     "text": [
      "processing complete: Jockey/img00028.png\n"
     ]
    },
    {
     "name": "stderr",
     "output_type": "stream",
     "text": [
      "100%|███████████████████████████████████████████████| 50/50 [00:24<00:00,  2.06it/s]\n",
      "100%|███████████████████████████████████████████████| 50/50 [00:04<00:00, 10.12it/s]\n",
      "100%|███████████████████████████████████████████████| 50/50 [00:13<00:00,  3.75it/s]\n"
     ]
    },
    {
     "name": "stdout",
     "output_type": "stream",
     "text": [
      "processing complete: Jockey/img00029.png\n"
     ]
    },
    {
     "name": "stderr",
     "output_type": "stream",
     "text": [
      "100%|███████████████████████████████████████████████| 50/50 [00:24<00:00,  2.05it/s]\n",
      "100%|███████████████████████████████████████████████| 50/50 [00:04<00:00, 10.07it/s]\n",
      "100%|███████████████████████████████████████████████| 50/50 [00:13<00:00,  3.74it/s]\n"
     ]
    },
    {
     "name": "stdout",
     "output_type": "stream",
     "text": [
      "processing complete: Jockey/img00030.png\n"
     ]
    },
    {
     "name": "stderr",
     "output_type": "stream",
     "text": [
      "100%|███████████████████████████████████████████████| 50/50 [00:24<00:00,  2.06it/s]\n",
      "100%|███████████████████████████████████████████████| 50/50 [00:04<00:00, 10.13it/s]\n",
      "100%|███████████████████████████████████████████████| 50/50 [00:13<00:00,  3.75it/s]\n"
     ]
    },
    {
     "name": "stdout",
     "output_type": "stream",
     "text": [
      "processing complete: Jockey/img00031.png\n"
     ]
    },
    {
     "name": "stderr",
     "output_type": "stream",
     "text": [
      "100%|███████████████████████████████████████████████| 50/50 [00:24<00:00,  2.06it/s]\n",
      "100%|███████████████████████████████████████████████| 50/50 [00:04<00:00, 10.10it/s]\n",
      "100%|███████████████████████████████████████████████| 50/50 [00:13<00:00,  3.74it/s]\n"
     ]
    },
    {
     "name": "stdout",
     "output_type": "stream",
     "text": [
      "processing complete: Jockey/img00032.png\n"
     ]
    },
    {
     "name": "stderr",
     "output_type": "stream",
     "text": [
      "100%|███████████████████████████████████████████████| 50/50 [00:24<00:00,  2.06it/s]\n",
      "100%|███████████████████████████████████████████████| 50/50 [00:04<00:00, 10.02it/s]\n",
      "100%|███████████████████████████████████████████████| 50/50 [00:13<00:00,  3.74it/s]\n"
     ]
    },
    {
     "name": "stdout",
     "output_type": "stream",
     "text": [
      "processing complete: Jockey/img00033.png\n"
     ]
    },
    {
     "name": "stderr",
     "output_type": "stream",
     "text": [
      "100%|███████████████████████████████████████████████| 50/50 [00:24<00:00,  2.08it/s]\n",
      "100%|███████████████████████████████████████████████| 50/50 [00:04<00:00, 10.07it/s]\n",
      "100%|███████████████████████████████████████████████| 50/50 [00:13<00:00,  3.74it/s]\n"
     ]
    },
    {
     "name": "stdout",
     "output_type": "stream",
     "text": [
      "processing complete: Jockey/img00034.png\n"
     ]
    },
    {
     "name": "stderr",
     "output_type": "stream",
     "text": [
      "100%|███████████████████████████████████████████████| 50/50 [00:24<00:00,  2.04it/s]\n",
      "100%|███████████████████████████████████████████████| 50/50 [00:04<00:00, 10.06it/s]\n",
      "100%|███████████████████████████████████████████████| 50/50 [00:13<00:00,  3.71it/s]\n"
     ]
    },
    {
     "name": "stdout",
     "output_type": "stream",
     "text": [
      "processing complete: Jockey/img00035.png\n"
     ]
    },
    {
     "name": "stderr",
     "output_type": "stream",
     "text": [
      "100%|███████████████████████████████████████████████| 50/50 [00:24<00:00,  2.06it/s]\n",
      "100%|███████████████████████████████████████████████| 50/50 [00:04<00:00, 10.01it/s]\n",
      "100%|███████████████████████████████████████████████| 50/50 [00:13<00:00,  3.74it/s]\n"
     ]
    },
    {
     "name": "stdout",
     "output_type": "stream",
     "text": [
      "processing complete: Jockey/img00036.png\n"
     ]
    },
    {
     "name": "stderr",
     "output_type": "stream",
     "text": [
      "100%|███████████████████████████████████████████████| 50/50 [00:23<00:00,  2.09it/s]\n",
      "100%|███████████████████████████████████████████████| 50/50 [00:04<00:00, 10.11it/s]\n",
      "100%|███████████████████████████████████████████████| 50/50 [00:13<00:00,  3.76it/s]\n"
     ]
    },
    {
     "name": "stdout",
     "output_type": "stream",
     "text": [
      "processing complete: Jockey/img00037.png\n"
     ]
    },
    {
     "name": "stderr",
     "output_type": "stream",
     "text": [
      "100%|███████████████████████████████████████████████| 50/50 [00:24<00:00,  2.06it/s]\n",
      "100%|███████████████████████████████████████████████| 50/50 [00:04<00:00, 10.05it/s]\n",
      "100%|███████████████████████████████████████████████| 50/50 [00:13<00:00,  3.72it/s]\n"
     ]
    },
    {
     "name": "stdout",
     "output_type": "stream",
     "text": [
      "processing complete: Jockey/img00038.png\n"
     ]
    },
    {
     "name": "stderr",
     "output_type": "stream",
     "text": [
      "100%|███████████████████████████████████████████████| 50/50 [00:24<00:00,  2.05it/s]\n",
      "100%|███████████████████████████████████████████████| 50/50 [00:04<00:00, 10.04it/s]\n",
      "100%|███████████████████████████████████████████████| 50/50 [00:13<00:00,  3.76it/s]\n"
     ]
    },
    {
     "name": "stdout",
     "output_type": "stream",
     "text": [
      "processing complete: Jockey/img00039.png\n"
     ]
    },
    {
     "name": "stderr",
     "output_type": "stream",
     "text": [
      "100%|███████████████████████████████████████████████| 50/50 [00:23<00:00,  2.10it/s]\n",
      "100%|███████████████████████████████████████████████| 50/50 [00:04<00:00, 10.02it/s]\n",
      "100%|███████████████████████████████████████████████| 50/50 [00:13<00:00,  3.74it/s]\n"
     ]
    },
    {
     "name": "stdout",
     "output_type": "stream",
     "text": [
      "processing complete: Jockey/img00040.png\n"
     ]
    },
    {
     "name": "stderr",
     "output_type": "stream",
     "text": [
      "100%|███████████████████████████████████████████████| 50/50 [00:24<00:00,  2.05it/s]\n",
      "100%|███████████████████████████████████████████████| 50/50 [00:05<00:00,  9.84it/s]\n",
      "100%|███████████████████████████████████████████████| 50/50 [00:13<00:00,  3.68it/s]\n"
     ]
    },
    {
     "name": "stdout",
     "output_type": "stream",
     "text": [
      "processing complete: Jockey/img00041.png\n"
     ]
    },
    {
     "name": "stderr",
     "output_type": "stream",
     "text": [
      "100%|███████████████████████████████████████████████| 50/50 [00:24<00:00,  2.01it/s]\n",
      "100%|███████████████████████████████████████████████| 50/50 [00:05<00:00,  9.93it/s]\n",
      "100%|███████████████████████████████████████████████| 50/50 [00:13<00:00,  3.69it/s]\n"
     ]
    },
    {
     "name": "stdout",
     "output_type": "stream",
     "text": [
      "processing complete: Jockey/img00042.png\n"
     ]
    },
    {
     "name": "stderr",
     "output_type": "stream",
     "text": [
      "100%|███████████████████████████████████████████████| 50/50 [00:11<00:00,  4.36it/s]\n",
      "100%|███████████████████████████████████████████████| 50/50 [00:05<00:00,  9.99it/s]\n",
      "100%|███████████████████████████████████████████████| 50/50 [00:13<00:00,  3.71it/s]\n"
     ]
    },
    {
     "name": "stdout",
     "output_type": "stream",
     "text": [
      "processing complete: Jockey/img00043.png\n"
     ]
    },
    {
     "name": "stderr",
     "output_type": "stream",
     "text": [
      "100%|███████████████████████████████████████████████| 50/50 [00:24<00:00,  2.03it/s]\n",
      "100%|███████████████████████████████████████████████| 50/50 [00:05<00:00,  9.80it/s]\n",
      "100%|███████████████████████████████████████████████| 50/50 [00:13<00:00,  3.72it/s]\n"
     ]
    },
    {
     "name": "stdout",
     "output_type": "stream",
     "text": [
      "processing complete: Jockey/img00044.png\n"
     ]
    },
    {
     "name": "stderr",
     "output_type": "stream",
     "text": [
      "100%|███████████████████████████████████████████████| 50/50 [00:24<00:00,  2.05it/s]\n",
      "100%|███████████████████████████████████████████████| 50/50 [00:05<00:00,  9.72it/s]\n",
      "100%|███████████████████████████████████████████████| 50/50 [00:13<00:00,  3.70it/s]\n"
     ]
    },
    {
     "name": "stdout",
     "output_type": "stream",
     "text": [
      "processing complete: Jockey/img00045.png\n"
     ]
    },
    {
     "name": "stderr",
     "output_type": "stream",
     "text": [
      "100%|███████████████████████████████████████████████| 50/50 [00:24<00:00,  2.01it/s]\n",
      "100%|███████████████████████████████████████████████| 50/50 [00:05<00:00,  9.71it/s]\n",
      "100%|███████████████████████████████████████████████| 50/50 [00:13<00:00,  3.64it/s]\n"
     ]
    },
    {
     "name": "stdout",
     "output_type": "stream",
     "text": [
      "processing complete: Jockey/img00046.png\n"
     ]
    },
    {
     "name": "stderr",
     "output_type": "stream",
     "text": [
      "100%|███████████████████████████████████████████████| 50/50 [00:24<00:00,  2.03it/s]\n",
      "100%|███████████████████████████████████████████████| 50/50 [00:05<00:00,  9.92it/s]\n",
      "100%|███████████████████████████████████████████████| 50/50 [00:13<00:00,  3.72it/s]\n"
     ]
    },
    {
     "name": "stdout",
     "output_type": "stream",
     "text": [
      "processing complete: Jockey/img00047.png\n"
     ]
    },
    {
     "name": "stderr",
     "output_type": "stream",
     "text": [
      "100%|███████████████████████████████████████████████| 50/50 [00:24<00:00,  2.02it/s]\n",
      "100%|███████████████████████████████████████████████| 50/50 [00:05<00:00,  9.81it/s]\n",
      "100%|███████████████████████████████████████████████| 50/50 [00:13<00:00,  3.71it/s]\n"
     ]
    },
    {
     "name": "stdout",
     "output_type": "stream",
     "text": [
      "processing complete: Jockey/img00048.png\n"
     ]
    },
    {
     "name": "stderr",
     "output_type": "stream",
     "text": [
      "100%|███████████████████████████████████████████████| 50/50 [00:24<00:00,  2.01it/s]\n",
      "100%|███████████████████████████████████████████████| 50/50 [00:05<00:00,  9.74it/s]\n",
      "100%|███████████████████████████████████████████████| 50/50 [00:13<00:00,  3.68it/s]\n"
     ]
    },
    {
     "name": "stdout",
     "output_type": "stream",
     "text": [
      "processing complete: Jockey/img00049.png\n"
     ]
    },
    {
     "name": "stderr",
     "output_type": "stream",
     "text": [
      "100%|███████████████████████████████████████████████| 50/50 [00:24<00:00,  2.03it/s]\n",
      "100%|███████████████████████████████████████████████| 50/50 [00:05<00:00,  9.76it/s]\n",
      "100%|███████████████████████████████████████████████| 50/50 [00:13<00:00,  3.69it/s]\n"
     ]
    },
    {
     "name": "stdout",
     "output_type": "stream",
     "text": [
      "processing complete: Jockey/img00050.png\n"
     ]
    },
    {
     "name": "stderr",
     "output_type": "stream",
     "text": [
      "100%|███████████████████████████████████████████████| 50/50 [00:24<00:00,  2.02it/s]\n",
      "100%|███████████████████████████████████████████████| 50/50 [00:05<00:00,  9.97it/s]\n",
      "100%|███████████████████████████████████████████████| 50/50 [00:13<00:00,  3.73it/s]\n"
     ]
    },
    {
     "name": "stdout",
     "output_type": "stream",
     "text": [
      "processing complete: Jockey/img00051.png\n"
     ]
    },
    {
     "name": "stderr",
     "output_type": "stream",
     "text": [
      "100%|███████████████████████████████████████████████| 50/50 [00:24<00:00,  2.02it/s]\n",
      "100%|███████████████████████████████████████████████| 50/50 [00:05<00:00,  9.77it/s]\n",
      "100%|███████████████████████████████████████████████| 50/50 [00:13<00:00,  3.70it/s]\n"
     ]
    },
    {
     "name": "stdout",
     "output_type": "stream",
     "text": [
      "processing complete: Jockey/img00052.png\n"
     ]
    },
    {
     "name": "stderr",
     "output_type": "stream",
     "text": [
      "100%|███████████████████████████████████████████████| 50/50 [00:24<00:00,  2.03it/s]\n",
      "100%|███████████████████████████████████████████████| 50/50 [00:05<00:00,  9.96it/s]\n",
      "100%|███████████████████████████████████████████████| 50/50 [00:13<00:00,  3.72it/s]\n"
     ]
    },
    {
     "name": "stdout",
     "output_type": "stream",
     "text": [
      "processing complete: Jockey/img00053.png\n"
     ]
    },
    {
     "name": "stderr",
     "output_type": "stream",
     "text": [
      "100%|███████████████████████████████████████████████| 50/50 [00:24<00:00,  2.03it/s]\n",
      "100%|███████████████████████████████████████████████| 50/50 [00:05<00:00,  9.76it/s]\n",
      "100%|███████████████████████████████████████████████| 50/50 [00:13<00:00,  3.62it/s]\n"
     ]
    },
    {
     "name": "stdout",
     "output_type": "stream",
     "text": [
      "processing complete: Jockey/img00054.png\n"
     ]
    },
    {
     "name": "stderr",
     "output_type": "stream",
     "text": [
      "100%|███████████████████████████████████████████████| 50/50 [00:22<00:00,  2.25it/s]\n",
      "100%|███████████████████████████████████████████████| 50/50 [00:04<00:00, 10.09it/s]\n",
      "100%|███████████████████████████████████████████████| 50/50 [00:13<00:00,  3.75it/s]\n"
     ]
    },
    {
     "name": "stdout",
     "output_type": "stream",
     "text": [
      "processing complete: Jockey/img00055.png\n"
     ]
    },
    {
     "name": "stderr",
     "output_type": "stream",
     "text": [
      "100%|███████████████████████████████████████████████| 50/50 [00:24<00:00,  2.05it/s]\n",
      "100%|███████████████████████████████████████████████| 50/50 [00:05<00:00,  9.53it/s]\n",
      "100%|███████████████████████████████████████████████| 50/50 [00:13<00:00,  3.65it/s]\n"
     ]
    },
    {
     "name": "stdout",
     "output_type": "stream",
     "text": [
      "processing complete: Jockey/img00056.png\n"
     ]
    },
    {
     "name": "stderr",
     "output_type": "stream",
     "text": [
      "100%|███████████████████████████████████████████████| 50/50 [00:24<00:00,  2.03it/s]\n",
      "100%|███████████████████████████████████████████████| 50/50 [00:04<00:00, 10.03it/s]\n",
      "100%|███████████████████████████████████████████████| 50/50 [00:13<00:00,  3.74it/s]\n"
     ]
    },
    {
     "name": "stdout",
     "output_type": "stream",
     "text": [
      "processing complete: Jockey/img00057.png\n"
     ]
    },
    {
     "name": "stderr",
     "output_type": "stream",
     "text": [
      "100%|███████████████████████████████████████████████| 50/50 [00:23<00:00,  2.12it/s]\n",
      "100%|███████████████████████████████████████████████| 50/50 [00:05<00:00,  9.79it/s]\n",
      "100%|███████████████████████████████████████████████| 50/50 [00:13<00:00,  3.73it/s]\n"
     ]
    },
    {
     "name": "stdout",
     "output_type": "stream",
     "text": [
      "processing complete: Jockey/img00058.png\n"
     ]
    },
    {
     "name": "stderr",
     "output_type": "stream",
     "text": [
      "100%|███████████████████████████████████████████████| 50/50 [00:24<00:00,  2.05it/s]\n",
      "100%|███████████████████████████████████████████████| 50/50 [00:04<00:00, 10.03it/s]\n",
      "100%|███████████████████████████████████████████████| 50/50 [00:13<00:00,  3.75it/s]\n"
     ]
    },
    {
     "name": "stdout",
     "output_type": "stream",
     "text": [
      "processing complete: Jockey/img00059.png\n"
     ]
    },
    {
     "name": "stderr",
     "output_type": "stream",
     "text": [
      "100%|███████████████████████████████████████████████| 50/50 [00:22<00:00,  2.22it/s]\n",
      "100%|███████████████████████████████████████████████| 50/50 [00:05<00:00,  9.98it/s]\n",
      "100%|███████████████████████████████████████████████| 50/50 [00:13<00:00,  3.73it/s]\n"
     ]
    },
    {
     "name": "stdout",
     "output_type": "stream",
     "text": [
      "processing complete: Jockey/img00060.png\n"
     ]
    },
    {
     "name": "stderr",
     "output_type": "stream",
     "text": [
      "100%|███████████████████████████████████████████████| 50/50 [00:24<00:00,  2.06it/s]\n",
      "100%|███████████████████████████████████████████████| 50/50 [00:04<00:00, 10.09it/s]\n",
      "100%|███████████████████████████████████████████████| 50/50 [00:13<00:00,  3.75it/s]\n"
     ]
    },
    {
     "name": "stdout",
     "output_type": "stream",
     "text": [
      "processing complete: Jockey/img00061.png\n"
     ]
    },
    {
     "name": "stderr",
     "output_type": "stream",
     "text": [
      "100%|███████████████████████████████████████████████| 50/50 [00:24<00:00,  2.05it/s]\n",
      "100%|███████████████████████████████████████████████| 50/50 [00:05<00:00,  9.87it/s]\n",
      "100%|███████████████████████████████████████████████| 50/50 [00:13<00:00,  3.73it/s]\n"
     ]
    },
    {
     "name": "stdout",
     "output_type": "stream",
     "text": [
      "processing complete: Jockey/img00062.png\n"
     ]
    },
    {
     "name": "stderr",
     "output_type": "stream",
     "text": [
      "100%|███████████████████████████████████████████████| 50/50 [00:24<00:00,  2.06it/s]\n",
      "100%|███████████████████████████████████████████████| 50/50 [00:04<00:00, 10.11it/s]\n",
      "100%|███████████████████████████████████████████████| 50/50 [00:13<00:00,  3.75it/s]\n"
     ]
    },
    {
     "name": "stdout",
     "output_type": "stream",
     "text": [
      "processing complete: Jockey/img00063.png\n"
     ]
    },
    {
     "name": "stderr",
     "output_type": "stream",
     "text": [
      "100%|███████████████████████████████████████████████| 50/50 [00:24<00:00,  2.05it/s]\n",
      "100%|███████████████████████████████████████████████| 50/50 [00:05<00:00,  9.96it/s]\n",
      "100%|███████████████████████████████████████████████| 50/50 [00:13<00:00,  3.74it/s]\n"
     ]
    },
    {
     "name": "stdout",
     "output_type": "stream",
     "text": [
      "processing complete: Jockey/img00064.png\n"
     ]
    },
    {
     "name": "stderr",
     "output_type": "stream",
     "text": [
      "100%|███████████████████████████████████████████████| 50/50 [00:24<00:00,  2.06it/s]\n",
      "100%|███████████████████████████████████████████████| 50/50 [00:04<00:00, 10.12it/s]\n",
      "100%|███████████████████████████████████████████████| 50/50 [00:13<00:00,  3.74it/s]\n"
     ]
    },
    {
     "name": "stdout",
     "output_type": "stream",
     "text": [
      "processing complete: Jockey/img00065.png\n"
     ]
    },
    {
     "name": "stderr",
     "output_type": "stream",
     "text": [
      "100%|███████████████████████████████████████████████| 50/50 [00:24<00:00,  2.05it/s]\n",
      "100%|███████████████████████████████████████████████| 50/50 [00:05<00:00,  9.94it/s]\n",
      "100%|███████████████████████████████████████████████| 50/50 [00:13<00:00,  3.74it/s]\n"
     ]
    },
    {
     "name": "stdout",
     "output_type": "stream",
     "text": [
      "processing complete: Jockey/img00066.png\n"
     ]
    },
    {
     "name": "stderr",
     "output_type": "stream",
     "text": [
      "100%|███████████████████████████████████████████████| 50/50 [00:24<00:00,  2.06it/s]\n",
      "100%|███████████████████████████████████████████████| 50/50 [00:04<00:00, 10.09it/s]\n",
      "100%|███████████████████████████████████████████████| 50/50 [00:13<00:00,  3.74it/s]\n"
     ]
    },
    {
     "name": "stdout",
     "output_type": "stream",
     "text": [
      "processing complete: Jockey/img00067.png\n"
     ]
    },
    {
     "name": "stderr",
     "output_type": "stream",
     "text": [
      "100%|███████████████████████████████████████████████| 50/50 [00:24<00:00,  2.04it/s]\n",
      "100%|███████████████████████████████████████████████| 50/50 [00:05<00:00,  9.82it/s]\n",
      "100%|███████████████████████████████████████████████| 50/50 [00:13<00:00,  3.74it/s]\n"
     ]
    },
    {
     "name": "stdout",
     "output_type": "stream",
     "text": [
      "processing complete: Jockey/img00068.png\n"
     ]
    },
    {
     "name": "stderr",
     "output_type": "stream",
     "text": [
      "100%|███████████████████████████████████████████████| 50/50 [00:24<00:00,  2.05it/s]\n",
      "100%|███████████████████████████████████████████████| 50/50 [00:04<00:00, 10.04it/s]\n",
      "100%|███████████████████████████████████████████████| 50/50 [00:13<00:00,  3.73it/s]\n"
     ]
    },
    {
     "name": "stdout",
     "output_type": "stream",
     "text": [
      "processing complete: Jockey/img00069.png\n"
     ]
    },
    {
     "name": "stderr",
     "output_type": "stream",
     "text": [
      "100%|███████████████████████████████████████████████| 50/50 [00:24<00:00,  2.04it/s]\n",
      "100%|███████████████████████████████████████████████| 50/50 [00:05<00:00,  9.91it/s]\n",
      "100%|███████████████████████████████████████████████| 50/50 [00:13<00:00,  3.74it/s]\n"
     ]
    },
    {
     "name": "stdout",
     "output_type": "stream",
     "text": [
      "processing complete: Jockey/img00070.png\n"
     ]
    },
    {
     "name": "stderr",
     "output_type": "stream",
     "text": [
      "100%|███████████████████████████████████████████████| 50/50 [00:24<00:00,  2.04it/s]\n",
      "100%|███████████████████████████████████████████████| 50/50 [00:04<00:00, 10.04it/s]\n",
      "100%|███████████████████████████████████████████████| 50/50 [00:13<00:00,  3.73it/s]\n"
     ]
    },
    {
     "name": "stdout",
     "output_type": "stream",
     "text": [
      "processing complete: Jockey/img00071.png\n"
     ]
    },
    {
     "name": "stderr",
     "output_type": "stream",
     "text": [
      "100%|███████████████████████████████████████████████| 50/50 [00:24<00:00,  2.05it/s]\n",
      "100%|███████████████████████████████████████████████| 50/50 [00:05<00:00,  9.94it/s]\n",
      "100%|███████████████████████████████████████████████| 50/50 [00:13<00:00,  3.72it/s]\n"
     ]
    },
    {
     "name": "stdout",
     "output_type": "stream",
     "text": [
      "processing complete: Jockey/img00072.png\n"
     ]
    },
    {
     "name": "stderr",
     "output_type": "stream",
     "text": [
      "100%|███████████████████████████████████████████████| 50/50 [00:24<00:00,  2.06it/s]\n",
      "100%|███████████████████████████████████████████████| 50/50 [00:04<00:00, 10.09it/s]\n",
      "100%|███████████████████████████████████████████████| 50/50 [00:13<00:00,  3.73it/s]\n"
     ]
    },
    {
     "name": "stdout",
     "output_type": "stream",
     "text": [
      "processing complete: Jockey/img00073.png\n"
     ]
    },
    {
     "name": "stderr",
     "output_type": "stream",
     "text": [
      "100%|███████████████████████████████████████████████| 50/50 [00:24<00:00,  2.05it/s]\n",
      "100%|███████████████████████████████████████████████| 50/50 [00:05<00:00,  9.93it/s]\n",
      "100%|███████████████████████████████████████████████| 50/50 [00:13<00:00,  3.73it/s]\n"
     ]
    },
    {
     "name": "stdout",
     "output_type": "stream",
     "text": [
      "processing complete: Jockey/img00074.png\n"
     ]
    },
    {
     "name": "stderr",
     "output_type": "stream",
     "text": [
      "100%|███████████████████████████████████████████████| 50/50 [00:24<00:00,  2.07it/s]\n",
      "100%|███████████████████████████████████████████████| 50/50 [00:04<00:00, 10.09it/s]\n",
      "100%|███████████████████████████████████████████████| 50/50 [00:13<00:00,  3.74it/s]\n"
     ]
    },
    {
     "name": "stdout",
     "output_type": "stream",
     "text": [
      "processing complete: Jockey/img00075.png\n"
     ]
    },
    {
     "name": "stderr",
     "output_type": "stream",
     "text": [
      "100%|███████████████████████████████████████████████| 50/50 [00:24<00:00,  2.04it/s]\n",
      "100%|███████████████████████████████████████████████| 50/50 [00:05<00:00,  9.91it/s]\n",
      "100%|███████████████████████████████████████████████| 50/50 [00:13<00:00,  3.74it/s]\n"
     ]
    },
    {
     "name": "stdout",
     "output_type": "stream",
     "text": [
      "processing complete: Jockey/img00076.png\n"
     ]
    },
    {
     "name": "stderr",
     "output_type": "stream",
     "text": [
      "100%|███████████████████████████████████████████████| 50/50 [00:24<00:00,  2.06it/s]\n",
      "100%|███████████████████████████████████████████████| 50/50 [00:04<00:00, 10.07it/s]\n",
      "100%|███████████████████████████████████████████████| 50/50 [00:13<00:00,  3.73it/s]\n"
     ]
    },
    {
     "name": "stdout",
     "output_type": "stream",
     "text": [
      "processing complete: Jockey/img00077.png\n"
     ]
    },
    {
     "name": "stderr",
     "output_type": "stream",
     "text": [
      "100%|███████████████████████████████████████████████| 50/50 [00:24<00:00,  2.05it/s]\n",
      "100%|███████████████████████████████████████████████| 50/50 [00:05<00:00,  9.82it/s]\n",
      "100%|███████████████████████████████████████████████| 50/50 [00:13<00:00,  3.74it/s]\n"
     ]
    },
    {
     "name": "stdout",
     "output_type": "stream",
     "text": [
      "processing complete: Jockey/img00078.png\n"
     ]
    },
    {
     "name": "stderr",
     "output_type": "stream",
     "text": [
      "100%|███████████████████████████████████████████████| 50/50 [00:24<00:00,  2.05it/s]\n",
      "100%|███████████████████████████████████████████████| 50/50 [00:04<00:00, 10.02it/s]\n",
      "100%|███████████████████████████████████████████████| 50/50 [00:13<00:00,  3.72it/s]\n"
     ]
    },
    {
     "name": "stdout",
     "output_type": "stream",
     "text": [
      "processing complete: Jockey/img00079.png\n"
     ]
    },
    {
     "name": "stderr",
     "output_type": "stream",
     "text": [
      "100%|███████████████████████████████████████████████| 50/50 [00:24<00:00,  2.05it/s]\n",
      "100%|███████████████████████████████████████████████| 50/50 [00:05<00:00,  9.87it/s]\n",
      "100%|███████████████████████████████████████████████| 50/50 [00:13<00:00,  3.73it/s]\n"
     ]
    },
    {
     "name": "stdout",
     "output_type": "stream",
     "text": [
      "processing complete: Jockey/img00080.png\n"
     ]
    },
    {
     "name": "stderr",
     "output_type": "stream",
     "text": [
      "100%|███████████████████████████████████████████████| 50/50 [00:24<00:00,  2.05it/s]\n",
      "100%|███████████████████████████████████████████████| 50/50 [00:05<00:00,  9.96it/s]\n",
      "100%|███████████████████████████████████████████████| 50/50 [00:13<00:00,  3.72it/s]\n"
     ]
    },
    {
     "name": "stdout",
     "output_type": "stream",
     "text": [
      "processing complete: Jockey/img00081.png\n"
     ]
    },
    {
     "name": "stderr",
     "output_type": "stream",
     "text": [
      "100%|███████████████████████████████████████████████| 50/50 [00:24<00:00,  2.03it/s]\n",
      "100%|███████████████████████████████████████████████| 50/50 [00:05<00:00,  9.89it/s]\n",
      "100%|███████████████████████████████████████████████| 50/50 [00:13<00:00,  3.73it/s]\n"
     ]
    },
    {
     "name": "stdout",
     "output_type": "stream",
     "text": [
      "processing complete: Jockey/img00082.png\n"
     ]
    },
    {
     "name": "stderr",
     "output_type": "stream",
     "text": [
      "100%|███████████████████████████████████████████████| 50/50 [00:24<00:00,  2.05it/s]\n",
      "100%|███████████████████████████████████████████████| 50/50 [00:05<00:00,  9.94it/s]\n",
      "100%|███████████████████████████████████████████████| 50/50 [00:13<00:00,  3.74it/s]\n"
     ]
    },
    {
     "name": "stdout",
     "output_type": "stream",
     "text": [
      "processing complete: Jockey/img00083.png\n"
     ]
    },
    {
     "name": "stderr",
     "output_type": "stream",
     "text": [
      "100%|███████████████████████████████████████████████| 50/50 [00:24<00:00,  2.04it/s]\n",
      "100%|███████████████████████████████████████████████| 50/50 [00:05<00:00,  9.88it/s]\n",
      "100%|███████████████████████████████████████████████| 50/50 [00:13<00:00,  3.73it/s]\n"
     ]
    },
    {
     "name": "stdout",
     "output_type": "stream",
     "text": [
      "processing complete: Jockey/img00084.png\n"
     ]
    },
    {
     "name": "stderr",
     "output_type": "stream",
     "text": [
      "100%|███████████████████████████████████████████████| 50/50 [00:24<00:00,  2.05it/s]\n",
      "100%|███████████████████████████████████████████████| 50/50 [00:04<00:00, 10.02it/s]\n",
      "100%|███████████████████████████████████████████████| 50/50 [00:13<00:00,  3.73it/s]\n"
     ]
    },
    {
     "name": "stdout",
     "output_type": "stream",
     "text": [
      "processing complete: Jockey/img00085.png\n"
     ]
    },
    {
     "name": "stderr",
     "output_type": "stream",
     "text": [
      "100%|███████████████████████████████████████████████| 50/50 [00:24<00:00,  2.04it/s]\n",
      "100%|███████████████████████████████████████████████| 50/50 [00:05<00:00,  9.93it/s]\n",
      "100%|███████████████████████████████████████████████| 50/50 [00:13<00:00,  3.74it/s]\n"
     ]
    },
    {
     "name": "stdout",
     "output_type": "stream",
     "text": [
      "processing complete: Jockey/img00086.png\n"
     ]
    },
    {
     "name": "stderr",
     "output_type": "stream",
     "text": [
      "100%|███████████████████████████████████████████████| 50/50 [00:24<00:00,  2.05it/s]\n",
      "100%|███████████████████████████████████████████████| 50/50 [00:05<00:00,  9.99it/s]\n",
      "100%|███████████████████████████████████████████████| 50/50 [00:13<00:00,  3.73it/s]\n"
     ]
    },
    {
     "name": "stdout",
     "output_type": "stream",
     "text": [
      "processing complete: Jockey/img00087.png\n"
     ]
    },
    {
     "name": "stderr",
     "output_type": "stream",
     "text": [
      "100%|███████████████████████████████████████████████| 50/50 [00:24<00:00,  2.05it/s]\n",
      "100%|███████████████████████████████████████████████| 50/50 [00:05<00:00,  9.92it/s]\n",
      "100%|███████████████████████████████████████████████| 50/50 [00:13<00:00,  3.74it/s]\n"
     ]
    },
    {
     "name": "stdout",
     "output_type": "stream",
     "text": [
      "processing complete: Jockey/img00088.png\n"
     ]
    },
    {
     "name": "stderr",
     "output_type": "stream",
     "text": [
      "100%|███████████████████████████████████████████████| 50/50 [00:24<00:00,  2.05it/s]\n",
      "100%|███████████████████████████████████████████████| 50/50 [00:05<00:00, 10.00it/s]\n",
      "100%|███████████████████████████████████████████████| 50/50 [00:13<00:00,  3.71it/s]\n"
     ]
    },
    {
     "name": "stdout",
     "output_type": "stream",
     "text": [
      "processing complete: Jockey/img00089.png\n"
     ]
    },
    {
     "name": "stderr",
     "output_type": "stream",
     "text": [
      "100%|███████████████████████████████████████████████| 50/50 [00:24<00:00,  2.08it/s]\n",
      "100%|███████████████████████████████████████████████| 50/50 [00:05<00:00,  9.90it/s]\n",
      "100%|███████████████████████████████████████████████| 50/50 [00:13<00:00,  3.75it/s]\n"
     ]
    },
    {
     "name": "stdout",
     "output_type": "stream",
     "text": [
      "processing complete: Jockey/img00090.png\n"
     ]
    },
    {
     "name": "stderr",
     "output_type": "stream",
     "text": [
      "100%|███████████████████████████████████████████████| 50/50 [00:24<00:00,  2.04it/s]\n",
      "100%|███████████████████████████████████████████████| 50/50 [00:04<00:00, 10.06it/s]\n",
      "100%|███████████████████████████████████████████████| 50/50 [00:13<00:00,  3.74it/s]\n"
     ]
    },
    {
     "name": "stdout",
     "output_type": "stream",
     "text": [
      "processing complete: Jockey/img00091.png\n"
     ]
    },
    {
     "name": "stderr",
     "output_type": "stream",
     "text": [
      "100%|███████████████████████████████████████████████| 50/50 [00:24<00:00,  2.05it/s]\n",
      "100%|███████████████████████████████████████████████| 50/50 [00:05<00:00,  9.95it/s]\n",
      "100%|███████████████████████████████████████████████| 50/50 [00:13<00:00,  3.75it/s]\n"
     ]
    },
    {
     "name": "stdout",
     "output_type": "stream",
     "text": [
      "processing complete: Jockey/img00092.png\n"
     ]
    },
    {
     "name": "stderr",
     "output_type": "stream",
     "text": [
      "100%|███████████████████████████████████████████████| 50/50 [00:24<00:00,  2.05it/s]\n",
      "100%|███████████████████████████████████████████████| 50/50 [00:05<00:00, 10.00it/s]\n",
      "100%|███████████████████████████████████████████████| 50/50 [00:13<00:00,  3.74it/s]\n"
     ]
    },
    {
     "name": "stdout",
     "output_type": "stream",
     "text": [
      "processing complete: Jockey/img00093.png\n"
     ]
    },
    {
     "name": "stderr",
     "output_type": "stream",
     "text": [
      "100%|███████████████████████████████████████████████| 50/50 [00:24<00:00,  2.05it/s]\n",
      "100%|███████████████████████████████████████████████| 50/50 [00:04<00:00, 10.05it/s]\n",
      "100%|███████████████████████████████████████████████| 50/50 [00:13<00:00,  3.75it/s]\n"
     ]
    },
    {
     "name": "stdout",
     "output_type": "stream",
     "text": [
      "processing complete: Jockey/img00094.png\n"
     ]
    },
    {
     "name": "stderr",
     "output_type": "stream",
     "text": [
      "100%|███████████████████████████████████████████████| 50/50 [00:24<00:00,  2.05it/s]\n",
      "100%|███████████████████████████████████████████████| 50/50 [00:05<00:00,  9.90it/s]\n",
      "100%|███████████████████████████████████████████████| 50/50 [00:13<00:00,  3.72it/s]\n"
     ]
    },
    {
     "name": "stdout",
     "output_type": "stream",
     "text": [
      "processing complete: Jockey/img00095.png\n"
     ]
    },
    {
     "name": "stderr",
     "output_type": "stream",
     "text": [
      "100%|███████████████████████████████████████████████| 50/50 [00:24<00:00,  2.05it/s]\n",
      "100%|███████████████████████████████████████████████| 50/50 [00:04<00:00, 10.10it/s]\n",
      "100%|███████████████████████████████████████████████| 50/50 [00:13<00:00,  3.73it/s]\n"
     ]
    },
    {
     "name": "stdout",
     "output_type": "stream",
     "text": [
      "processing complete: Jockey/img00096.png\n"
     ]
    },
    {
     "name": "stderr",
     "output_type": "stream",
     "text": [
      "100%|███████████████████████████████████████████████| 50/50 [00:24<00:00,  2.05it/s]\n",
      "100%|███████████████████████████████████████████████| 50/50 [00:05<00:00,  9.99it/s]\n",
      "100%|███████████████████████████████████████████████| 50/50 [00:13<00:00,  3.71it/s]\n"
     ]
    },
    {
     "name": "stdout",
     "output_type": "stream",
     "text": [
      "processing complete: Jockey/img00097.png\n"
     ]
    },
    {
     "name": "stderr",
     "output_type": "stream",
     "text": [
      "100%|███████████████████████████████████████████████| 50/50 [00:24<00:00,  2.04it/s]\n",
      "100%|███████████████████████████████████████████████| 50/50 [00:04<00:00, 10.07it/s]\n",
      "100%|███████████████████████████████████████████████| 50/50 [00:13<00:00,  3.73it/s]\n"
     ]
    },
    {
     "name": "stdout",
     "output_type": "stream",
     "text": [
      "processing complete: Jockey/img00098.png\n"
     ]
    },
    {
     "name": "stderr",
     "output_type": "stream",
     "text": [
      "100%|███████████████████████████████████████████████| 50/50 [00:24<00:00,  2.04it/s]\n",
      "100%|███████████████████████████████████████████████| 50/50 [00:05<00:00,  9.94it/s]\n",
      "100%|███████████████████████████████████████████████| 50/50 [00:13<00:00,  3.72it/s]\n"
     ]
    },
    {
     "name": "stdout",
     "output_type": "stream",
     "text": [
      "processing complete: Jockey/img00099.png\n"
     ]
    },
    {
     "name": "stderr",
     "output_type": "stream",
     "text": [
      "100%|███████████████████████████████████████████████| 50/50 [00:24<00:00,  2.04it/s]\n",
      "100%|███████████████████████████████████████████████| 50/50 [00:04<00:00, 10.04it/s]\n",
      "100%|███████████████████████████████████████████████| 50/50 [00:13<00:00,  3.72it/s]\n"
     ]
    },
    {
     "name": "stdout",
     "output_type": "stream",
     "text": [
      "processing complete: Jockey/img00100.png\n"
     ]
    },
    {
     "name": "stderr",
     "output_type": "stream",
     "text": [
      " 26%|████████████▏                                  | 13/50 [00:07<00:20,  1.82it/s]\n"
     ]
    },
    {
     "ename": "KeyboardInterrupt",
     "evalue": "",
     "output_type": "error",
     "traceback": [
      "\u001b[0;31m---------------------------------------------------------------------------\u001b[0m",
      "\u001b[0;31mKeyboardInterrupt\u001b[0m                         Traceback (most recent call last)",
      "Cell \u001b[0;32mIn[13], line 6\u001b[0m\n\u001b[1;32m      4\u001b[0m \u001b[38;5;28;01mfor\u001b[39;00m file \u001b[38;5;129;01min\u001b[39;00m img_files:\n\u001b[1;32m      5\u001b[0m     frame \u001b[38;5;241m=\u001b[39m Image\u001b[38;5;241m.\u001b[39mopen(file)\u001b[38;5;241m.\u001b[39mconvert(\u001b[38;5;124m\"\u001b[39m\u001b[38;5;124mRGB\u001b[39m\u001b[38;5;124m\"\u001b[39m)\u001b[38;5;241m.\u001b[39mresize((\u001b[38;5;241m512\u001b[39m, \u001b[38;5;241m512\u001b[39m))\n\u001b[0;32m----> 6\u001b[0m     pred , cap, latent \u001b[38;5;241m=\u001b[39m \u001b[43mget_reconstructed_image\u001b[49m\u001b[43m(\u001b[49m\u001b[43mframe\u001b[49m\u001b[43m)\u001b[49m\n\u001b[1;32m      7\u001b[0m     psnr \u001b[38;5;241m=\u001b[39m calculate_psnr(frame,pred)   \n\u001b[1;32m      8\u001b[0m     psnr_values\u001b[38;5;241m.\u001b[39mappend(psnr)\n",
      "Cell \u001b[0;32mIn[4], line 4\u001b[0m, in \u001b[0;36mget_reconstructed_image\u001b[0;34m(raw_image)\u001b[0m\n\u001b[1;32m      2\u001b[0m caption \u001b[38;5;241m=\u001b[39m get_caption(raw_image)\n\u001b[1;32m      3\u001b[0m generator \u001b[38;5;241m=\u001b[39m torch\u001b[38;5;241m.\u001b[39mmanual_seed(\u001b[38;5;241m0\u001b[39m)\n\u001b[0;32m----> 4\u001b[0m inv_latents \u001b[38;5;241m=\u001b[39m \u001b[43mpipeline\u001b[49m\u001b[38;5;241;43m.\u001b[39;49m\u001b[43minvert\u001b[49m\u001b[43m(\u001b[49m\u001b[43mcaption\u001b[49m\u001b[43m,\u001b[49m\u001b[43m \u001b[49m\u001b[43mimage\u001b[49m\u001b[38;5;241;43m=\u001b[39;49m\u001b[43mraw_image\u001b[49m\u001b[43m,\u001b[49m\u001b[43m \u001b[49m\u001b[43mgenerator\u001b[49m\u001b[38;5;241;43m=\u001b[39;49m\u001b[43mgenerator\u001b[49m\u001b[43m)\u001b[49m\u001b[38;5;241m.\u001b[39mlatents\n\u001b[1;32m      5\u001b[0m source_embeds \u001b[38;5;241m=\u001b[39m pipeline\u001b[38;5;241m.\u001b[39mget_embeds(caption, batch_size\u001b[38;5;241m=\u001b[39m\u001b[38;5;241m2\u001b[39m)\n\u001b[1;32m      6\u001b[0m pred_img \u001b[38;5;241m=\u001b[39m pipeline(\n\u001b[1;32m      7\u001b[0m         caption,\n\u001b[1;32m      8\u001b[0m         source_embeds\u001b[38;5;241m=\u001b[39msource_embeds,\n\u001b[0;32m   (...)\u001b[0m\n\u001b[1;32m     14\u001b[0m         negative_prompt\u001b[38;5;241m=\u001b[39mcaption,\n\u001b[1;32m     15\u001b[0m     )\u001b[38;5;241m.\u001b[39mimages[\u001b[38;5;241m0\u001b[39m]\n",
      "File \u001b[0;32m/data/maryam.sana/anaconda3/envs/compressai/lib/python3.12/site-packages/torch/utils/_contextlib.py:115\u001b[0m, in \u001b[0;36mcontext_decorator.<locals>.decorate_context\u001b[0;34m(*args, **kwargs)\u001b[0m\n\u001b[1;32m    112\u001b[0m \u001b[38;5;129m@functools\u001b[39m\u001b[38;5;241m.\u001b[39mwraps(func)\n\u001b[1;32m    113\u001b[0m \u001b[38;5;28;01mdef\u001b[39;00m \u001b[38;5;21mdecorate_context\u001b[39m(\u001b[38;5;241m*\u001b[39margs, \u001b[38;5;241m*\u001b[39m\u001b[38;5;241m*\u001b[39mkwargs):\n\u001b[1;32m    114\u001b[0m     \u001b[38;5;28;01mwith\u001b[39;00m ctx_factory():\n\u001b[0;32m--> 115\u001b[0m         \u001b[38;5;28;01mreturn\u001b[39;00m \u001b[43mfunc\u001b[49m\u001b[43m(\u001b[49m\u001b[38;5;241;43m*\u001b[39;49m\u001b[43margs\u001b[49m\u001b[43m,\u001b[49m\u001b[43m \u001b[49m\u001b[38;5;241;43m*\u001b[39;49m\u001b[38;5;241;43m*\u001b[39;49m\u001b[43mkwargs\u001b[49m\u001b[43m)\u001b[49m\n",
      "File \u001b[0;32m/data/maryam.sana/anaconda3/envs/compressai/lib/python3.12/site-packages/diffusers/pipelines/deprecated/stable_diffusion_variants/pipeline_stable_diffusion_pix2pix_zero.py:1260\u001b[0m, in \u001b[0;36mStableDiffusionPix2PixZeroPipeline.invert\u001b[0;34m(self, prompt, image, num_inference_steps, guidance_scale, generator, latents, prompt_embeds, cross_attention_guidance_amount, output_type, return_dict, callback, callback_steps, cross_attention_kwargs, lambda_auto_corr, lambda_kl, num_reg_steps, num_auto_corr_rolls)\u001b[0m\n\u001b[1;32m   1257\u001b[0m \u001b[38;5;66;03m# Derive epsilon from model output before regularizing to IID standard normal\u001b[39;00m\n\u001b[1;32m   1258\u001b[0m var_epsilon \u001b[38;5;241m=\u001b[39m \u001b[38;5;28mself\u001b[39m\u001b[38;5;241m.\u001b[39mget_epsilon(var, latent_model_input\u001b[38;5;241m.\u001b[39mdetach(), t)\n\u001b[0;32m-> 1260\u001b[0m l_ac \u001b[38;5;241m=\u001b[39m \u001b[38;5;28;43mself\u001b[39;49m\u001b[38;5;241;43m.\u001b[39;49m\u001b[43mauto_corr_loss\u001b[49m\u001b[43m(\u001b[49m\u001b[43mvar_epsilon\u001b[49m\u001b[43m,\u001b[49m\u001b[43m \u001b[49m\u001b[43mgenerator\u001b[49m\u001b[38;5;241;43m=\u001b[39;49m\u001b[43mgenerator\u001b[49m\u001b[43m)\u001b[49m\n\u001b[1;32m   1261\u001b[0m l_ac\u001b[38;5;241m.\u001b[39mbackward()\n\u001b[1;32m   1263\u001b[0m grad \u001b[38;5;241m=\u001b[39m var\u001b[38;5;241m.\u001b[39mgrad\u001b[38;5;241m.\u001b[39mdetach() \u001b[38;5;241m/\u001b[39m num_auto_corr_rolls\n",
      "File \u001b[0;32m/data/maryam.sana/anaconda3/envs/compressai/lib/python3.12/site-packages/diffusers/pipelines/deprecated/stable_diffusion_variants/pipeline_stable_diffusion_pix2pix_zero.py:802\u001b[0m, in \u001b[0;36mStableDiffusionPix2PixZeroPipeline.auto_corr_loss\u001b[0;34m(self, hidden_states, generator)\u001b[0m\n\u001b[1;32m    800\u001b[0m             \u001b[38;5;28;01mif\u001b[39;00m noise\u001b[38;5;241m.\u001b[39mshape[\u001b[38;5;241m2\u001b[39m] \u001b[38;5;241m<\u001b[39m\u001b[38;5;241m=\u001b[39m \u001b[38;5;241m8\u001b[39m:\n\u001b[1;32m    801\u001b[0m                 \u001b[38;5;28;01mbreak\u001b[39;00m\n\u001b[0;32m--> 802\u001b[0m             noise \u001b[38;5;241m=\u001b[39m \u001b[43mF\u001b[49m\u001b[38;5;241;43m.\u001b[39;49m\u001b[43mavg_pool2d\u001b[49m\u001b[43m(\u001b[49m\u001b[43mnoise\u001b[49m\u001b[43m,\u001b[49m\u001b[43m \u001b[49m\u001b[43mkernel_size\u001b[49m\u001b[38;5;241;43m=\u001b[39;49m\u001b[38;5;241;43m2\u001b[39;49m\u001b[43m)\u001b[49m\n\u001b[1;32m    803\u001b[0m \u001b[38;5;28;01mreturn\u001b[39;00m reg_loss\n",
      "\u001b[0;31mKeyboardInterrupt\u001b[0m: "
     ]
    }
   ],
   "source": [
    "img_files =sorted(glob.glob('Jockey/*.png'))\n",
    "psnr_values =[]\n",
    "bpp_values = []\n",
    "for file in img_files:\n",
    "    frame = Image.open(file).convert(\"RGB\").resize((512, 512))\n",
    "    pred , cap, latent = get_reconstructed_image(frame)\n",
    "    psnr = calculate_psnr(frame,pred)   \n",
    "    psnr_values.append(psnr)\n",
    "    pred.save('compressed/'+ Path(file).stem+ '.png')\n",
    "    output_name = 'compressed/'+ Path(file).stem + '.pkl'\n",
    "    with open(output_name, 'wb') as f:\n",
    "        pickle.dump({'caption': cap, 'tensor': latent}, f)\n",
    "    bpp = calculate_bpp(output_name,(512,512))\n",
    "    bpp_values.append(bpp)\n",
    "    print('processing complete:' ,file)\n"
   ]
  },
  {
   "cell_type": "code",
   "execution_count": 16,
   "id": "5368dccf-73b0-47e9-b1d0-8a85140341ff",
   "metadata": {},
   "outputs": [
    {
     "data": {
      "text/plain": [
       "1.0147705078125"
      ]
     },
     "execution_count": 16,
     "metadata": {},
     "output_type": "execute_result"
    }
   ],
   "source": [
    "bpp = sum(bpp_values)/len(bpp_values)"
   ]
  },
  {
   "cell_type": "code",
   "execution_count": 17,
   "id": "eaac29b5-6f62-4a6d-a740-ba9eee1c5fcb",
   "metadata": {},
   "outputs": [],
   "source": [
    "psnr = sum(psnr_values)/len(psnr_values)"
   ]
  },
  {
   "cell_type": "code",
   "execution_count": 18,
   "id": "bcddffd0-4a08-4074-b0a3-358dd01b583a",
   "metadata": {},
   "outputs": [
    {
     "data": {
      "text/plain": [
       "31.497359305606697"
      ]
     },
     "execution_count": 18,
     "metadata": {},
     "output_type": "execute_result"
    }
   ],
   "source": [
    "psnr"
   ]
  },
  {
   "cell_type": "code",
   "execution_count": null,
   "id": "1dde4a59-9d8b-4baa-a6d3-d5a048a4be79",
   "metadata": {},
   "outputs": [],
   "source": []
  }
 ],
 "metadata": {
  "kernelspec": {
   "display_name": "Python 3 (ipykernel)",
   "language": "python",
   "name": "python3"
  },
  "language_info": {
   "codemirror_mode": {
    "name": "ipython",
    "version": 3
   },
   "file_extension": ".py",
   "mimetype": "text/x-python",
   "name": "python",
   "nbconvert_exporter": "python",
   "pygments_lexer": "ipython3",
   "version": "3.12.2"
  }
 },
 "nbformat": 4,
 "nbformat_minor": 5
}
