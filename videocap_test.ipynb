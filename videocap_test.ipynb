{
 "cells": [
  {
   "cell_type": "code",
   "execution_count": 4,
   "id": "e91a53f9-9de7-4f69-a0ff-9aa88e6a5235",
   "metadata": {},
   "outputs": [
    {
     "name": "stderr",
     "output_type": "stream",
     "text": [
      "Could not find image processor class in the image processor config or the model config. Loading based on pattern matching with the model's feature extractor configuration. Please open a PR/issue to update `preprocessor_config.json` to use `image_processor_type` instead of `feature_extractor_type`. This warning will be removed in v4.40.\n"
     ]
    },
    {
     "name": "stdout",
     "output_type": "stream",
     "text": [
      "A group of people are riding horses around a grassy field.\n"
     ]
    }
   ],
   "source": [
    "import av\n",
    "import numpy as np\n",
    "import torch\n",
    "from transformers import AutoImageProcessor, AutoTokenizer, VisionEncoderDecoderModel\n",
    "\n",
    "device = \"cuda\" if torch.cuda.is_available() else \"cpu\"\n",
    "\n",
    "# load pretrained processor, tokenizer, and model\n",
    "image_processor = AutoImageProcessor.from_pretrained(\"MCG-NJU/videomae-base\")\n",
    "tokenizer = AutoTokenizer.from_pretrained(\"gpt2\")\n",
    "model = VisionEncoderDecoderModel.from_pretrained(\"Neleac/timesformer-gpt2-video-captioning\").to(device)\n",
    "\n",
    "# load video\n",
    "video_path = \"output2.mp4\"\n",
    "container = av.open(video_path)\n",
    "\n",
    "# extract evenly spaced frames from video\n",
    "seg_len = container.streams.video[0].frames\n",
    "clip_len = model.config.encoder.num_frames\n",
    "indices = set(np.linspace(0, seg_len, num=clip_len, endpoint=False).astype(np.int64))\n",
    "frames = []\n",
    "container.seek(0)\n",
    "for i, frame in enumerate(container.decode(video=0)):\n",
    "    if i in indices:\n",
    "        frames.append(frame.to_ndarray(format=\"rgb24\"))\n",
    "\n",
    "# generate caption\n",
    "gen_kwargs = {\n",
    "    \"min_length\": 10, \n",
    "    \"max_length\": 200, \n",
    "    \"num_beams\": 8,\n",
    "}\n",
    "pixel_values = image_processor(frames, return_tensors=\"pt\").pixel_values.to(device)\n",
    "tokens = model.generate(pixel_values, **gen_kwargs)\n",
    "caption = tokenizer.batch_decode(tokens, skip_special_tokens=True)[0]\n",
    "print(caption) # A man and a woman are dancing on a stage in front of a mirror.\n"
   ]
  },
  {
   "cell_type": "code",
   "execution_count": null,
   "id": "3c1158cf-16c6-43cc-b845-30fedf2da71f",
   "metadata": {},
   "outputs": [],
   "source": []
  }
 ],
 "metadata": {
  "kernelspec": {
   "display_name": "Python 3 (ipykernel)",
   "language": "python",
   "name": "python3"
  },
  "language_info": {
   "codemirror_mode": {
    "name": "ipython",
    "version": 3
   },
   "file_extension": ".py",
   "mimetype": "text/x-python",
   "name": "python",
   "nbconvert_exporter": "python",
   "pygments_lexer": "ipython3",
   "version": "3.12.2"
  }
 },
 "nbformat": 4,
 "nbformat_minor": 5
}
