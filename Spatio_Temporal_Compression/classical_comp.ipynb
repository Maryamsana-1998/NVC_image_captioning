{
 "cells": [
  {
   "cell_type": "markdown",
   "id": "e6383239-8a5f-4bf2-a4bf-8e03036d4687",
   "metadata": {},
   "source": [
    "### Temporal Compression"
   ]
  },
  {
   "cell_type": "code",
   "execution_count": null,
   "id": "d5976445-74bf-465d-bd16-86dcab57f482",
   "metadata": {},
   "outputs": [],
   "source": [
    "!ffmpeg -pix_fmt yuv420p  -s 1920x1080 -i data/Jockey/Jockey_1920x1080_120fps_420_8bit_YUV.yuv -vf \"select=not(mod(n\\,10))\" -vsync vfr frame_%03d.png"
   ]
  },
  {
   "cell_type": "code",
   "execution_count": 2,
   "id": "6c25f744-f3f5-456a-baaa-3b7803e34e5e",
   "metadata": {},
   "outputs": [
    {
     "name": "stdout",
     "output_type": "stream",
     "text": [
      "ffmpeg version 4.2.7-0ubuntu0.1 Copyright (c) 2000-2022 the FFmpeg developers\n",
      "  built with gcc 9 (Ubuntu 9.4.0-1ubuntu1~20.04.1)\n",
      "  configuration: --prefix=/usr --extra-version=0ubuntu0.1 --toolchain=hardened --libdir=/usr/lib/x86_64-linux-gnu --incdir=/usr/include/x86_64-linux-gnu --arch=amd64 --enable-gpl --disable-stripping --enable-avresample --disable-filter=resample --enable-avisynth --enable-gnutls --enable-ladspa --enable-libaom --enable-libass --enable-libbluray --enable-libbs2b --enable-libcaca --enable-libcdio --enable-libcodec2 --enable-libflite --enable-libfontconfig --enable-libfreetype --enable-libfribidi --enable-libgme --enable-libgsm --enable-libjack --enable-libmp3lame --enable-libmysofa --enable-libopenjpeg --enable-libopenmpt --enable-libopus --enable-libpulse --enable-librsvg --enable-librubberband --enable-libshine --enable-libsnappy --enable-libsoxr --enable-libspeex --enable-libssh --enable-libtheora --enable-libtwolame --enable-libvidstab --enable-libvorbis --enable-libvpx --enable-libwavpack --enable-libwebp --enable-libx265 --enable-libxml2 --enable-libxvid --enable-libzmq --enable-libzvbi --enable-lv2 --enable-omx --enable-openal --enable-opencl --enable-opengl --enable-sdl2 --enable-libdc1394 --enable-libdrm --enable-libiec61883 --enable-nvenc --enable-chromaprint --enable-frei0r --enable-libx264 --enable-shared\n",
      "  libavutil      56. 31.100 / 56. 31.100\n",
      "  libavcodec     58. 54.100 / 58. 54.100\n",
      "  libavformat    58. 29.100 / 58. 29.100\n",
      "  libavdevice    58.  8.100 / 58.  8.100\n",
      "  libavfilter     7. 57.100 /  7. 57.100\n",
      "  libavresample   4.  0.  0 /  4.  0.  0\n",
      "  libswscale      5.  5.100 /  5.  5.100\n",
      "  libswresample   3.  5.100 /  3.  5.100\n",
      "  libpostproc    55.  5.100 / 55.  5.100\n",
      "Input #0, image2, from 'data/Jockey/frame_%03d.png':\n",
      "  Duration: 00:00:05.00, start: 0.000000, bitrate: N/A\n",
      "    Stream #0:0: Video: png, rgb24(pc), 1920x1080, 12 tbr, 12 tbn, 12 tbc\n",
      "Stream mapping:\n",
      "  Stream #0:0 -> #0:0 (png (native) -> h264 (libx264))\n",
      "Press [q] to stop, [?] for help\n",
      "\u001b[1;36m[libx264 @ 0x55de7e55a9c0] \u001b[0musing cpu capabilities: MMX2 SSE2Fast SSSE3 SSE4.2 AVX FMA3 BMI2 AVX2\n",
      "\u001b[1;36m[libx264 @ 0x55de7e55a9c0] \u001b[0mprofile High, level 4.0\n",
      "\u001b[1;36m[libx264 @ 0x55de7e55a9c0] \u001b[0m264 - core 155 r2917 0a84d98 - H.264/MPEG-4 AVC codec - Copyleft 2003-2018 - http://www.videolan.org/x264.html - options: cabac=1 ref=2 deblock=1:0:0 analyse=0x3:0x113 me=hex subme=6 psy=1 psy_rd=1.00:0.00 mixed_ref=1 me_range=16 chroma_me=1 trellis=1 8x8dct=1 cqm=0 deadzone=21,11 fast_pskip=1 chroma_qp_offset=-2 threads=12 lookahead_threads=2 sliced_threads=0 nr=0 decimate=1 interlaced=0 bluray_compat=0 constrained_intra=0 bframes=3 b_pyramid=2 b_adapt=1 b_bias=0 direct=1 weightb=1 open_gop=0 weightp=1 keyint=250 keyint_min=12 scenecut=40 intra_refresh=0 rc_lookahead=30 rc=crf mbtree=1 crf=28.0 qcomp=0.60 qpmin=0 qpmax=69 qpstep=4 ip_ratio=1.40 aq=1:1.00\n",
      "Output #0, mp4, to 'output_h264.mp4':\n",
      "  Metadata:\n",
      "    encoder         : Lavf58.29.100\n",
      "    Stream #0:0: Video: h264 (libx264) (avc1 / 0x31637661), yuv420p, 1920x1080, q=-1--1, 12 fps, 12288 tbn, 12 tbc\n",
      "    Metadata:\n",
      "      encoder         : Lavc58.54.100 libx264\n",
      "    Side data:\n",
      "      cpb: bitrate max/min/avg: 0/0/0 buffer size: 0 vbv_delay: -1\n",
      "frame=   60 fps= 24 q=-1.0 Lsize=    1738kB time=00:00:04.75 bitrate=2997.6kbits/s speed= 1.9x    \n",
      "video:1737kB audio:0kB subtitle:0kB other streams:0kB global headers:0kB muxing overhead: 0.067072%\n",
      "\u001b[1;36m[libx264 @ 0x55de7e55a9c0] \u001b[0mframe I:2     Avg QP:27.94  size: 51760\n",
      "\u001b[1;36m[libx264 @ 0x55de7e55a9c0] \u001b[0mframe P:51    Avg QP:28.61  size: 30075\n",
      "\u001b[1;36m[libx264 @ 0x55de7e55a9c0] \u001b[0mframe B:7     Avg QP:29.61  size: 20092\n",
      "\u001b[1;36m[libx264 @ 0x55de7e55a9c0] \u001b[0mconsecutive B-frames: 83.3%  3.3%  0.0% 13.3%\n",
      "\u001b[1;36m[libx264 @ 0x55de7e55a9c0] \u001b[0mmb I  I16..4: 15.1% 74.7% 10.2%\n",
      "\u001b[1;36m[libx264 @ 0x55de7e55a9c0] \u001b[0mmb P  I16..4: 19.9% 34.1%  2.1%  P16..4: 26.1%  5.5%  1.4%  0.0%  0.0%    skip:10.9%\n",
      "\u001b[1;36m[libx264 @ 0x55de7e55a9c0] \u001b[0mmb B  I16..4:  3.0% 17.7%  0.8%  B16..8: 17.9%  3.7%  0.2%  direct:23.5%  skip:33.2%  L0:41.9% L1:55.9% BI: 2.2%\n",
      "\u001b[1;36m[libx264 @ 0x55de7e55a9c0] \u001b[0m8x8 transform intra:62.7% inter:88.6%\n",
      "\u001b[1;36m[libx264 @ 0x55de7e55a9c0] \u001b[0mcoded y,uvDC,uvAC intra: 35.3% 52.7% 9.7% inter: 25.1% 37.5% 0.4%\n",
      "\u001b[1;36m[libx264 @ 0x55de7e55a9c0] \u001b[0mi16 v,h,dc,p:  9% 53%  4% 34%\n",
      "\u001b[1;36m[libx264 @ 0x55de7e55a9c0] \u001b[0mi8 v,h,dc,ddl,ddr,vr,hd,vl,hu: 15% 33% 15%  5%  6%  6%  9%  4%  7%\n",
      "\u001b[1;36m[libx264 @ 0x55de7e55a9c0] \u001b[0mi4 v,h,dc,ddl,ddr,vr,hd,vl,hu: 19% 35% 12%  5%  9%  7%  8%  3%  3%\n",
      "\u001b[1;36m[libx264 @ 0x55de7e55a9c0] \u001b[0mi8c dc,h,v,p: 55% 27% 13%  5%\n",
      "\u001b[1;36m[libx264 @ 0x55de7e55a9c0] \u001b[0mWeighted P-Frames: Y:0.0% UV:0.0%\n",
      "\u001b[1;36m[libx264 @ 0x55de7e55a9c0] \u001b[0mref P L0: 73.4% 26.6%\n",
      "\u001b[1;36m[libx264 @ 0x55de7e55a9c0] \u001b[0mref B L0: 93.3%  6.7%\n",
      "\u001b[1;36m[libx264 @ 0x55de7e55a9c0] \u001b[0mref B L1: 98.5%  1.5%\n",
      "\u001b[1;36m[libx264 @ 0x55de7e55a9c0] \u001b[0mkb/s:2844.78\n"
     ]
    }
   ],
   "source": [
    "!# Using H.264\n",
    "!ffmpeg -framerate 12 -i data/Jockey/frame_%03d.png -c:v libx264 -preset fast -profile:v high -crf 28 -pix_fmt yuv420p output_h264.mp4\n",
    "\n",
    "# Using HEVC\n",
    "#ffmpeg -framerate 24 -i frame_%03d.png -c:v libx265 -crf 28 -pix_fmt yuv420p output_hevc.mp4\n"
   ]
  },
  {
   "cell_type": "markdown",
   "id": "94cbc1df-56d2-496a-a67b-b4f80516e37b",
   "metadata": {},
   "source": [
    "### Original Video Stats \n",
    "frames = 600\n",
    "Resolution = 1920x1080\n",
    "\n",
    "total pixels = 600 x 1920 x 1080\n",
    "total pixels = 1244160000"
   ]
  },
  {
   "cell_type": "code",
   "execution_count": 4,
   "id": "db0e82d0-6a99-4fb5-9357-f2c5002cedaa",
   "metadata": {},
   "outputs": [
    {
     "name": "stdout",
     "output_type": "stream",
     "text": [
      "Input #0, mov,mp4,m4a,3gp,3g2,mj2, from 'output_h264.mp4':\n",
      "  Metadata:\n",
      "    major_brand     : isom\n",
      "    minor_version   : 512\n",
      "    compatible_brands: isomiso2avc1mp41\n",
      "    encoder         : Lavf58.29.100\n",
      "  Duration: 00:00:05.00, start: 0.000000, bitrate: 2847 kb/s\n",
      "    Stream #0:0(und): Video: h264 (High) (avc1 / 0x31637661), yuv420p, 1920x1080, 2845 kb/s, 12 fps, 12 tbr, 12288 tbn, 24 tbc (default)\n",
      "    Metadata:\n",
      "      handler_name    : VideoHandler\n",
      "\u001b[4;31mAt least one output file must be specified\n",
      "\u001b[0m"
     ]
    }
   ],
   "source": [
    "!ffmpeg -i output_h264.mp4 -hide_banner"
   ]
  },
  {
   "cell_type": "code",
   "execution_count": 2,
   "id": "ef63ec57-dd8c-4686-901e-77cc197fcde4",
   "metadata": {},
   "outputs": [
    {
     "name": "stdout",
     "output_type": "stream",
     "text": [
      "14238976\n",
      "bpp: 0.011444650205761317\n"
     ]
    }
   ],
   "source": [
    "# compressed video size \n",
    "import os\n",
    "\n",
    "file_size_bytes = os.path.getsize('../data/compressed_videos/output_h264.mp4')\n",
    "# Convert file size to bits\n",
    "file_size_bits = file_size_bytes * 8\n",
    "print(file_size_bits )\n",
    "print('bpp:', file_size_bits/1244160000)"
   ]
  },
  {
   "cell_type": "markdown",
   "id": "9c2dbf3c-3168-4f6c-b764-9b18f806fd71",
   "metadata": {},
   "source": [
    "### Spatial Compression "
   ]
  },
  {
   "cell_type": "code",
   "execution_count": 8,
   "id": "d461b6ee-17de-4dcf-befe-6445d9c7e09e",
   "metadata": {},
   "outputs": [
    {
     "name": "stdout",
     "output_type": "stream",
     "text": [
      "ffmpeg version 4.2.7-0ubuntu0.1 Copyright (c) 2000-2022 the FFmpeg developers\n",
      "  built with gcc 9 (Ubuntu 9.4.0-1ubuntu1~20.04.1)\n",
      "  configuration: --prefix=/usr --extra-version=0ubuntu0.1 --toolchain=hardened --libdir=/usr/lib/x86_64-linux-gnu --incdir=/usr/include/x86_64-linux-gnu --arch=amd64 --enable-gpl --disable-stripping --enable-avresample --disable-filter=resample --enable-avisynth --enable-gnutls --enable-ladspa --enable-libaom --enable-libass --enable-libbluray --enable-libbs2b --enable-libcaca --enable-libcdio --enable-libcodec2 --enable-libflite --enable-libfontconfig --enable-libfreetype --enable-libfribidi --enable-libgme --enable-libgsm --enable-libjack --enable-libmp3lame --enable-libmysofa --enable-libopenjpeg --enable-libopenmpt --enable-libopus --enable-libpulse --enable-librsvg --enable-librubberband --enable-libshine --enable-libsnappy --enable-libsoxr --enable-libspeex --enable-libssh --enable-libtheora --enable-libtwolame --enable-libvidstab --enable-libvorbis --enable-libvpx --enable-libwavpack --enable-libwebp --enable-libx265 --enable-libxml2 --enable-libxvid --enable-libzmq --enable-libzvbi --enable-lv2 --enable-omx --enable-openal --enable-opencl --enable-opengl --enable-sdl2 --enable-libdc1394 --enable-libdrm --enable-libiec61883 --enable-nvenc --enable-chromaprint --enable-frei0r --enable-libx264 --enable-shared\n",
      "  libavutil      56. 31.100 / 56. 31.100\n",
      "  libavcodec     58. 54.100 / 58. 54.100\n",
      "  libavformat    58. 29.100 / 58. 29.100\n",
      "  libavdevice    58.  8.100 / 58.  8.100\n",
      "  libavfilter     7. 57.100 /  7. 57.100\n",
      "  libavresample   4.  0.  0 /  4.  0.  0\n",
      "  libswscale      5.  5.100 /  5.  5.100\n",
      "  libswresample   3.  5.100 /  3.  5.100\n",
      "  libpostproc    55.  5.100 / 55.  5.100\n",
      "\u001b[0;35m[rawvideo @ 0x561ba9af3c40] \u001b[0m\u001b[0;33mEstimating duration from bitrate, this may be inaccurate\n",
      "\u001b[0mInput #0, rawvideo, from 'data/Jockey/Jockey_1920x1080_120fps_420_8bit_YUV.yuv':\n",
      "  Duration: 00:00:24.00, start: 0.000000, bitrate: 622080 kb/s\n",
      "    Stream #0:0: Video: rawvideo (I420 / 0x30323449), yuv420p, 1920x1080, 622080 kb/s, 25 tbr, 25 tbn, 25 tbc\n",
      "Stream mapping:\n",
      "  Stream #0:0 -> #0:0 (rawvideo (native) -> h264 (libx264))\n",
      "Press [q] to stop, [?] for help\n",
      "\u001b[1;36m[libx264 @ 0x561ba9af9240] \u001b[0musing cpu capabilities: MMX2 SSE2Fast SSSE3 SSE4.2 AVX FMA3 BMI2 AVX2\n",
      "\u001b[1;36m[libx264 @ 0x561ba9af9240] \u001b[0mprofile High, level 3.0\n",
      "\u001b[1;36m[libx264 @ 0x561ba9af9240] \u001b[0m264 - core 155 r2917 0a84d98 - H.264/MPEG-4 AVC codec - Copyleft 2003-2018 - http://www.videolan.org/x264.html - options: cabac=1 ref=3 deblock=1:0:0 analyse=0x3:0x113 me=hex subme=7 psy=1 psy_rd=1.00:0.00 mixed_ref=1 me_range=16 chroma_me=1 trellis=1 8x8dct=1 cqm=0 deadzone=21,11 fast_pskip=1 chroma_qp_offset=-2 threads=8 lookahead_threads=1 sliced_threads=0 nr=0 decimate=1 interlaced=0 bluray_compat=0 constrained_intra=0 bframes=3 b_pyramid=2 b_adapt=1 b_bias=0 direct=1 weightb=1 open_gop=0 weightp=2 keyint=250 keyint_min=25 scenecut=40 intra_refresh=0 rc_lookahead=40 rc=crf mbtree=1 crf=28.0 qcomp=0.60 qpmin=0 qpmax=69 qpstep=4 ip_ratio=1.40 aq=1:1.00\n",
      "Output #0, mp4, to 'data/compressed_videos/output_256x256_h264.mp4':\n",
      "  Metadata:\n",
      "    encoder         : Lavf58.29.100\n",
      "    Stream #0:0: Video: h264 (libx264) (avc1 / 0x31637661), yuv420p, 256x256, q=-1--1, 120 fps, 15360 tbn, 120 tbc\n",
      "    Metadata:\n",
      "      encoder         : Lavc58.54.100 libx264\n",
      "    Side data:\n",
      "      cpb: bitrate max/min/avg: 0/0/0 buffer size: 0 vbv_delay: -1\n",
      "frame=  600 fps=164 q=-1.0 Lsize=     257kB time=00:00:04.97 bitrate= 422.8kbits/s speed=1.36x     \n",
      "video:249kB audio:0kB subtitle:0kB other streams:0kB global headers:0kB muxing overhead: 3.013337%\n",
      "\u001b[1;36m[libx264 @ 0x561ba9af9240] \u001b[0mframe I:3     Avg QP:32.63  size:  2820\n",
      "\u001b[1;36m[libx264 @ 0x561ba9af9240] \u001b[0mframe P:190   Avg QP:35.03  size:   767\n",
      "\u001b[1;36m[libx264 @ 0x561ba9af9240] \u001b[0mframe B:407   Avg QP:39.81  size:   247\n",
      "\u001b[1;36m[libx264 @ 0x561ba9af9240] \u001b[0mconsecutive B-frames:  2.8% 13.3% 20.5% 63.3%\n",
      "\u001b[1;36m[libx264 @ 0x561ba9af9240] \u001b[0mmb I  I16..4:  7.6% 66.5% 25.9%\n",
      "\u001b[1;36m[libx264 @ 0x561ba9af9240] \u001b[0mmb P  I16..4:  1.1%  5.1%  1.0%  P16..4: 35.8% 10.5%  4.6%  0.0%  0.0%    skip:41.9%\n",
      "\u001b[1;36m[libx264 @ 0x561ba9af9240] \u001b[0mmb B  I16..4:  0.1%  0.2%  0.0%  B16..8: 41.0%  4.0%  0.4%  direct: 0.6%  skip:53.5%  L0:45.2% L1:53.6% BI: 1.3%\n",
      "\u001b[1;36m[libx264 @ 0x561ba9af9240] \u001b[0m8x8 transform intra:69.7% inter:78.7%\n",
      "\u001b[1;36m[libx264 @ 0x561ba9af9240] \u001b[0mcoded y,uvDC,uvAC intra: 52.4% 58.3% 24.5% inter: 6.4% 5.5% 0.4%\n",
      "\u001b[1;36m[libx264 @ 0x561ba9af9240] \u001b[0mi16 v,h,dc,p: 40% 42%  7% 11%\n",
      "\u001b[1;36m[libx264 @ 0x561ba9af9240] \u001b[0mi8 v,h,dc,ddl,ddr,vr,hd,vl,hu: 24% 17% 24%  5%  5%  8%  5%  7%  5%\n",
      "\u001b[1;36m[libx264 @ 0x561ba9af9240] \u001b[0mi4 v,h,dc,ddl,ddr,vr,hd,vl,hu: 31% 20% 24%  4%  4%  7%  3%  4%  3%\n",
      "\u001b[1;36m[libx264 @ 0x561ba9af9240] \u001b[0mi8c dc,h,v,p: 70% 12% 16%  2%\n",
      "\u001b[1;36m[libx264 @ 0x561ba9af9240] \u001b[0mWeighted P-Frames: Y:0.0% UV:0.0%\n",
      "\u001b[1;36m[libx264 @ 0x561ba9af9240] \u001b[0mref P L0: 63.7% 14.8% 14.3%  7.2%\n",
      "\u001b[1;36m[libx264 @ 0x561ba9af9240] \u001b[0mref B L0: 92.1%  6.5%  1.4%\n",
      "\u001b[1;36m[libx264 @ 0x561ba9af9240] \u001b[0mref B L1: 98.6%  1.4%\n",
      "\u001b[1;36m[libx264 @ 0x561ba9af9240] \u001b[0mkb/s:407.27\n"
     ]
    }
   ],
   "source": [
    "!ffmpeg -s 1920x1080 -r 120 -pix_fmt yuv420p -i data/Jockey/Jockey_1920x1080_120fps_420_8bit_YUV.yuv -vf scale=256:256 -c:v libx264 -crf 28 data/compressed_videos/output_256x256_h264.mp4"
   ]
  },
  {
   "cell_type": "code",
   "execution_count": 9,
   "id": "bcc2dde6-536c-48db-a992-4a77849a06a3",
   "metadata": {},
   "outputs": [
    {
     "name": "stdout",
     "output_type": "stream",
     "text": [
      "bpp: 0.0016906057098765432\n"
     ]
    }
   ],
   "source": [
    "# compressed video size \n",
    "\n",
    "file_size_bytes = os.path.getsize('data/compressed_videos/output_256x256_h264.mp4')\n",
    "# Convert file size to bits\n",
    "file_size_bits = file_size_bytes * 8\n",
    "print('bpp:', file_size_bits/1244160000)"
   ]
  },
  {
   "cell_type": "markdown",
   "id": "f7e2bccc-c727-47c9-8ee6-02fad706d2cc",
   "metadata": {},
   "source": [
    "### Spatio Temporal Compression"
   ]
  },
  {
   "cell_type": "code",
   "execution_count": 10,
   "id": "04e62b98-dd2d-4733-8e4a-d9e41190cc2e",
   "metadata": {},
   "outputs": [
    {
     "name": "stdout",
     "output_type": "stream",
     "text": [
      "ffmpeg version 4.2.7-0ubuntu0.1 Copyright (c) 2000-2022 the FFmpeg developers\n",
      "  built with gcc 9 (Ubuntu 9.4.0-1ubuntu1~20.04.1)\n",
      "  configuration: --prefix=/usr --extra-version=0ubuntu0.1 --toolchain=hardened --libdir=/usr/lib/x86_64-linux-gnu --incdir=/usr/include/x86_64-linux-gnu --arch=amd64 --enable-gpl --disable-stripping --enable-avresample --disable-filter=resample --enable-avisynth --enable-gnutls --enable-ladspa --enable-libaom --enable-libass --enable-libbluray --enable-libbs2b --enable-libcaca --enable-libcdio --enable-libcodec2 --enable-libflite --enable-libfontconfig --enable-libfreetype --enable-libfribidi --enable-libgme --enable-libgsm --enable-libjack --enable-libmp3lame --enable-libmysofa --enable-libopenjpeg --enable-libopenmpt --enable-libopus --enable-libpulse --enable-librsvg --enable-librubberband --enable-libshine --enable-libsnappy --enable-libsoxr --enable-libspeex --enable-libssh --enable-libtheora --enable-libtwolame --enable-libvidstab --enable-libvorbis --enable-libvpx --enable-libwavpack --enable-libwebp --enable-libx265 --enable-libxml2 --enable-libxvid --enable-libzmq --enable-libzvbi --enable-lv2 --enable-omx --enable-openal --enable-opencl --enable-opengl --enable-sdl2 --enable-libdc1394 --enable-libdrm --enable-libiec61883 --enable-nvenc --enable-chromaprint --enable-frei0r --enable-libx264 --enable-shared\n",
      "  libavutil      56. 31.100 / 56. 31.100\n",
      "  libavcodec     58. 54.100 / 58. 54.100\n",
      "  libavformat    58. 29.100 / 58. 29.100\n",
      "  libavdevice    58.  8.100 / 58.  8.100\n",
      "  libavfilter     7. 57.100 /  7. 57.100\n",
      "  libavresample   4.  0.  0 /  4.  0.  0\n",
      "  libswscale      5.  5.100 /  5.  5.100\n",
      "  libswresample   3.  5.100 /  3.  5.100\n",
      "  libpostproc    55.  5.100 / 55.  5.100\n",
      "\u001b[0;35m[rawvideo @ 0x55e867103c40] \u001b[0m\u001b[0;33mEstimating duration from bitrate, this may be inaccurate\n",
      "\u001b[0mInput #0, rawvideo, from 'data/Jockey/Jockey_1920x1080_120fps_420_8bit_YUV.yuv':\n",
      "  Duration: 00:00:24.00, start: 0.000000, bitrate: 622080 kb/s\n",
      "    Stream #0:0: Video: rawvideo (I420 / 0x30323449), yuv420p, 1920x1080, 622080 kb/s, 25 tbr, 25 tbn, 25 tbc\n",
      "Stream mapping:\n",
      "  Stream #0:0 -> #0:0 (rawvideo (native) -> h264 (libx264))\n",
      "Press [q] to stop, [?] for help\n",
      "\u001b[1;36m[libx264 @ 0x55e8671092c0] \u001b[0musing cpu capabilities: MMX2 SSE2Fast SSSE3 SSE4.2 AVX FMA3 BMI2 AVX2\n",
      "\u001b[1;36m[libx264 @ 0x55e8671092c0] \u001b[0mprofile High, level 1.3\n",
      "\u001b[1;36m[libx264 @ 0x55e8671092c0] \u001b[0m264 - core 155 r2917 0a84d98 - H.264/MPEG-4 AVC codec - Copyleft 2003-2018 - http://www.videolan.org/x264.html - options: cabac=1 ref=2 deblock=1:0:0 analyse=0x3:0x113 me=hex subme=6 psy=1 psy_rd=1.00:0.00 mixed_ref=1 me_range=16 chroma_me=1 trellis=1 8x8dct=1 cqm=0 deadzone=21,11 fast_pskip=1 chroma_qp_offset=-2 threads=8 lookahead_threads=1 sliced_threads=0 nr=0 decimate=1 interlaced=0 bluray_compat=0 constrained_intra=0 bframes=3 b_pyramid=2 b_adapt=1 b_bias=0 direct=1 weightb=1 open_gop=0 weightp=1 keyint=250 keyint_min=25 scenecut=40 intra_refresh=0 rc_lookahead=30 rc=crf mbtree=1 crf=28.0 qcomp=0.60 qpmin=0 qpmax=69 qpstep=4 ip_ratio=1.40 aq=1:1.00\n",
      "Output #0, mp4, to 'data/compressed_videos/temporal_output_256x256_h264.mp4':\n",
      "  Metadata:\n",
      "    encoder         : Lavf58.29.100\n",
      "    Stream #0:0: Video: h264 (libx264) (avc1 / 0x31637661), yuv420p, 256x256, q=-1--1, 25 fps, 12800 tbn, 25 tbc\n",
      "    Metadata:\n",
      "      encoder         : Lavc58.54.100 libx264\n",
      "    Side data:\n",
      "      cpb: bitrate max/min/avg: 0/0/0 buffer size: 0 vbv_delay: -1\n",
      "frame=  599 fps=0.0 q=-1.0 Lsize=     261kB time=00:00:23.84 bitrate=  89.7kbits/s dup=539 drop=0 speed=  48x    \n",
      "video:253kB audio:0kB subtitle:0kB other streams:0kB global headers:0kB muxing overhead: 3.060571%\n",
      "\u001b[1;36m[libx264 @ 0x55e8671092c0] \u001b[0mframe I:18    Avg QP:23.33  size:  5719\n",
      "\u001b[1;36m[libx264 @ 0x55e8671092c0] \u001b[0mframe P:156   Avg QP:29.74  size:   957\n",
      "\u001b[1;36m[libx264 @ 0x55e8671092c0] \u001b[0mframe B:425   Avg QP:34.55  size:    15\n",
      "\u001b[1;36m[libx264 @ 0x55e8671092c0] \u001b[0mconsecutive B-frames:  5.0%  0.3%  2.5% 92.2%\n",
      "\u001b[1;36m[libx264 @ 0x55e8671092c0] \u001b[0mmb I  I16..4:  0.8% 73.1% 26.1%\n",
      "\u001b[1;36m[libx264 @ 0x55e8671092c0] \u001b[0mmb P  I16..4:  0.3%  6.4%  2.8%  P16..4:  7.5%  4.7%  2.5%  0.0%  0.0%    skip:75.9%\n",
      "\u001b[1;36m[libx264 @ 0x55e8671092c0] \u001b[0mmb B  I16..4:  0.0%  0.0%  0.0%  B16..8:  0.4%  0.0%  0.0%  direct: 0.0%  skip:99.5%  L0:49.9% L1:47.8% BI: 2.3%\n",
      "\u001b[1;36m[libx264 @ 0x55e8671092c0] \u001b[0m8x8 transform intra:70.5% inter:61.4%\n",
      "\u001b[1;36m[libx264 @ 0x55e8671092c0] \u001b[0mcoded y,uvDC,uvAC intra: 93.2% 89.8% 63.1% inter: 2.3% 1.9% 0.5%\n",
      "\u001b[1;36m[libx264 @ 0x55e8671092c0] \u001b[0mi16 v,h,dc,p: 19% 57%  5% 19%\n",
      "\u001b[1;36m[libx264 @ 0x55e8671092c0] \u001b[0mi8 v,h,dc,ddl,ddr,vr,hd,vl,hu: 17% 30% 12%  5%  5%  6%  7%  7%  9%\n",
      "\u001b[1;36m[libx264 @ 0x55e8671092c0] \u001b[0mi4 v,h,dc,ddl,ddr,vr,hd,vl,hu: 22% 28% 10%  5%  6%  9%  6%  7%  6%\n",
      "\u001b[1;36m[libx264 @ 0x55e8671092c0] \u001b[0mi8c dc,h,v,p: 48% 26% 20%  6%\n",
      "\u001b[1;36m[libx264 @ 0x55e8671092c0] \u001b[0mWeighted P-Frames: Y:0.0% UV:0.0%\n",
      "\u001b[1;36m[libx264 @ 0x55e8671092c0] \u001b[0mref P L0: 84.0% 16.0%\n",
      "\u001b[1;36m[libx264 @ 0x55e8671092c0] \u001b[0mref B L0: 89.2% 10.8%\n",
      "\u001b[1;36m[libx264 @ 0x55e8671092c0] \u001b[0mref B L1: 96.2%  3.8%\n",
      "\u001b[1;36m[libx264 @ 0x55e8671092c0] \u001b[0mkb/s:86.38\n"
     ]
    }
   ],
   "source": [
    "!ffmpeg -pix_fmt yuv420p  -s 1920x1080 -i data/Jockey/Jockey_1920x1080_120fps_420_8bit_YUV.yuv  -vf \"select='not(mod(n,10))',scale=256:256\" -vcodec libx264 -crf 28 -preset fast -an data/compressed_videos/temporal_output_256x256_h264.mp4"
   ]
  },
  {
   "cell_type": "code",
   "execution_count": 11,
   "id": "d4368f8a-3389-41bc-919e-fa28892b30a8",
   "metadata": {},
   "outputs": [
    {
     "name": "stdout",
     "output_type": "stream",
     "text": [
      "bpp: 0.0017189750514403292\n"
     ]
    }
   ],
   "source": [
    "# compressed video size \n",
    "\n",
    "file_size_bytes = os.path.getsize('data/compressed_videos/temporal_output_256x256_h264.mp4')\n",
    "# Convert file size to bits\n",
    "file_size_bits = file_size_bytes * 8\n",
    "print('bpp:', file_size_bits/1244160000)"
   ]
  }
 ],
 "metadata": {
  "kernelspec": {
   "display_name": "Python 3 (ipykernel)",
   "language": "python",
   "name": "python3"
  },
  "language_info": {
   "codemirror_mode": {
    "name": "ipython",
    "version": 3
   },
   "file_extension": ".py",
   "mimetype": "text/x-python",
   "name": "python",
   "nbconvert_exporter": "python",
   "pygments_lexer": "ipython3",
   "version": "3.12.2"
  }
 },
 "nbformat": 4,
 "nbformat_minor": 5
}
